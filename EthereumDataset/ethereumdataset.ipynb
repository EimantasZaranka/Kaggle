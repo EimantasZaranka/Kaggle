{
 "cells": [
  {
   "cell_type": "code",
   "execution_count": 1,
   "id": "db99d602",
   "metadata": {
    "_cell_guid": "b1076dfc-b9ad-4769-8c92-a6c4dae69d19",
    "_uuid": "8f2839f25d086af736a60e9eeb907d3b93b6e0e5",
    "execution": {
     "iopub.execute_input": "2021-08-01T11:36:41.128057Z",
     "iopub.status.busy": "2021-08-01T11:36:41.127532Z",
     "iopub.status.idle": "2021-08-01T11:36:41.142690Z",
     "shell.execute_reply": "2021-08-01T11:36:41.142078Z",
     "shell.execute_reply.started": "2021-08-01T09:14:40.388465Z"
    },
    "papermill": {
     "duration": 0.082349,
     "end_time": "2021-08-01T11:36:41.142904",
     "exception": false,
     "start_time": "2021-08-01T11:36:41.060555",
     "status": "completed"
    },
    "tags": []
   },
   "outputs": [
    {
     "name": "stdout",
     "output_type": "stream",
     "text": [
      "/kaggle/input/ethereum-data/ETH-USD.csv\n"
     ]
    }
   ],
   "source": [
    "# This Python 3 environment comes with many helpful analytics libraries installed\n",
    "# It is defined by the kaggle/python Docker image: https://github.com/kaggle/docker-python\n",
    "# For example, here's several helpful packages to load\n",
    "\n",
    "import numpy as np # linear algebra\n",
    "import pandas as pd # data processing, CSV file I/O (e.g. pd.read_csv)\n",
    "\n",
    "# Input data files are available in the read-only \"../input/\" directory\n",
    "# For example, running this (by clicking run or pressing Shift+Enter) will list all files under the input directory\n",
    "\n",
    "import os\n",
    "for dirname, _, filenames in os.walk('/kaggle/input'):\n",
    "    for filename in filenames:\n",
    "        print(os.path.join(dirname, filename))\n",
    "\n",
    "# You can write up to 20GB to the current directory (/kaggle/working/) that gets preserved as output when you create a version using \"Save & Run All\" \n",
    "# You can also write temporary files to /kaggle/temp/, but they won't be saved outside of the current session"
   ]
  },
  {
   "cell_type": "code",
   "execution_count": 2,
   "id": "4fa6a4b8",
   "metadata": {
    "execution": {
     "iopub.execute_input": "2021-08-01T11:36:41.262126Z",
     "iopub.status.busy": "2021-08-01T11:36:41.261585Z",
     "iopub.status.idle": "2021-08-01T11:36:42.398739Z",
     "shell.execute_reply": "2021-08-01T11:36:42.398310Z",
     "shell.execute_reply.started": "2021-08-01T09:14:42.427879Z"
    },
    "papermill": {
     "duration": 1.197644,
     "end_time": "2021-08-01T11:36:42.398877",
     "exception": false,
     "start_time": "2021-08-01T11:36:41.201233",
     "status": "completed"
    },
    "tags": []
   },
   "outputs": [],
   "source": [
    "from matplotlib import pyplot as plt\n",
    "import seaborn as sns\n",
    "%matplotlib inline"
   ]
  },
  {
   "cell_type": "code",
   "execution_count": 3,
   "id": "4689f0a2",
   "metadata": {
    "execution": {
     "iopub.execute_input": "2021-08-01T11:36:42.530398Z",
     "iopub.status.busy": "2021-08-01T11:36:42.517336Z",
     "iopub.status.idle": "2021-08-01T11:36:52.535619Z",
     "shell.execute_reply": "2021-08-01T11:36:52.534667Z",
     "shell.execute_reply.started": "2021-08-01T09:14:44.425504Z"
    },
    "papermill": {
     "duration": 10.080673,
     "end_time": "2021-08-01T11:36:52.535759",
     "exception": false,
     "start_time": "2021-08-01T11:36:42.455086",
     "status": "completed"
    },
    "tags": []
   },
   "outputs": [
    {
     "name": "stdout",
     "output_type": "stream",
     "text": [
      "Collecting mplfinance\r\n",
      "  Downloading mplfinance-0.12.7a17-py3-none-any.whl (62 kB)\r\n",
      "\u001b[K     |████████████████████████████████| 62 kB 318 kB/s \r\n",
      "\u001b[?25hRequirement already satisfied: matplotlib in /opt/conda/lib/python3.7/site-packages (from mplfinance) (3.4.2)\r\n",
      "Requirement already satisfied: pandas in /opt/conda/lib/python3.7/site-packages (from mplfinance) (1.2.4)\r\n",
      "Requirement already satisfied: numpy>=1.16 in /opt/conda/lib/python3.7/site-packages (from matplotlib->mplfinance) (1.19.5)\r\n",
      "Requirement already satisfied: kiwisolver>=1.0.1 in /opt/conda/lib/python3.7/site-packages (from matplotlib->mplfinance) (1.3.1)\r\n",
      "Requirement already satisfied: pillow>=6.2.0 in /opt/conda/lib/python3.7/site-packages (from matplotlib->mplfinance) (8.2.0)\r\n",
      "Requirement already satisfied: pyparsing>=2.2.1 in /opt/conda/lib/python3.7/site-packages (from matplotlib->mplfinance) (2.4.7)\r\n",
      "Requirement already satisfied: cycler>=0.10 in /opt/conda/lib/python3.7/site-packages (from matplotlib->mplfinance) (0.10.0)\r\n",
      "Requirement already satisfied: python-dateutil>=2.7 in /opt/conda/lib/python3.7/site-packages (from matplotlib->mplfinance) (2.8.1)\r\n",
      "Requirement already satisfied: six in /opt/conda/lib/python3.7/site-packages (from cycler>=0.10->matplotlib->mplfinance) (1.15.0)\r\n",
      "Requirement already satisfied: pytz>=2017.3 in /opt/conda/lib/python3.7/site-packages (from pandas->mplfinance) (2021.1)\r\n",
      "Installing collected packages: mplfinance\r\n",
      "Successfully installed mplfinance-0.12.7a17\r\n",
      "\u001b[33mWARNING: Running pip as root will break packages and permissions. You should install packages reliably by using venv: https://pip.pypa.io/warnings/venv\u001b[0m\r\n"
     ]
    }
   ],
   "source": [
    "!pip install mplfinance\n",
    "import mplfinance as mpf"
   ]
  },
  {
   "cell_type": "code",
   "execution_count": 4,
   "id": "ffa06b38",
   "metadata": {
    "execution": {
     "iopub.execute_input": "2021-08-01T11:36:52.722508Z",
     "iopub.status.busy": "2021-08-01T11:36:52.721786Z",
     "iopub.status.idle": "2021-08-01T11:36:52.725578Z",
     "shell.execute_reply": "2021-08-01T11:36:52.725022Z",
     "shell.execute_reply.started": "2021-08-01T09:26:40.650571Z"
    },
    "papermill": {
     "duration": 0.094327,
     "end_time": "2021-08-01T11:36:52.725707",
     "exception": false,
     "start_time": "2021-08-01T11:36:52.631380",
     "status": "completed"
    },
    "tags": []
   },
   "outputs": [],
   "source": [
    "sns.set_style(\"whitegrid\")\n",
    "sns.set(rc={'figure.figsize':(35,10)})"
   ]
  },
  {
   "cell_type": "markdown",
   "id": "f6391426",
   "metadata": {
    "papermill": {
     "duration": 0.057546,
     "end_time": "2021-08-01T11:36:52.842377",
     "exception": false,
     "start_time": "2021-08-01T11:36:52.784831",
     "status": "completed"
    },
    "tags": []
   },
   "source": [
    "# Getting first insights on data"
   ]
  },
  {
   "cell_type": "markdown",
   "id": "47f876ab",
   "metadata": {
    "papermill": {
     "duration": 0.056857,
     "end_time": "2021-08-01T11:36:52.956391",
     "exception": false,
     "start_time": "2021-08-01T11:36:52.899534",
     "status": "completed"
    },
    "tags": []
   },
   "source": [
    "## Loading in dataset"
   ]
  },
  {
   "cell_type": "code",
   "execution_count": 5,
   "id": "4748e7af",
   "metadata": {
    "execution": {
     "iopub.execute_input": "2021-08-01T11:36:53.074379Z",
     "iopub.status.busy": "2021-08-01T11:36:53.073836Z",
     "iopub.status.idle": "2021-08-01T11:36:53.120547Z",
     "shell.execute_reply": "2021-08-01T11:36:53.119688Z",
     "shell.execute_reply.started": "2021-08-01T09:14:57.465465Z"
    },
    "papermill": {
     "duration": 0.107601,
     "end_time": "2021-08-01T11:36:53.120680",
     "exception": false,
     "start_time": "2021-08-01T11:36:53.013079",
     "status": "completed"
    },
    "tags": []
   },
   "outputs": [
    {
     "data": {
      "text/html": [
       "<div>\n",
       "<style scoped>\n",
       "    .dataframe tbody tr th:only-of-type {\n",
       "        vertical-align: middle;\n",
       "    }\n",
       "\n",
       "    .dataframe tbody tr th {\n",
       "        vertical-align: top;\n",
       "    }\n",
       "\n",
       "    .dataframe thead th {\n",
       "        text-align: right;\n",
       "    }\n",
       "</style>\n",
       "<table border=\"1\" class=\"dataframe\">\n",
       "  <thead>\n",
       "    <tr style=\"text-align: right;\">\n",
       "      <th></th>\n",
       "      <th>Date</th>\n",
       "      <th>Open</th>\n",
       "      <th>High</th>\n",
       "      <th>Low</th>\n",
       "      <th>Close</th>\n",
       "      <th>Adj Close</th>\n",
       "      <th>Volume</th>\n",
       "    </tr>\n",
       "  </thead>\n",
       "  <tbody>\n",
       "    <tr>\n",
       "      <th>0</th>\n",
       "      <td>2015-08-07</td>\n",
       "      <td>2.831620</td>\n",
       "      <td>3.536610</td>\n",
       "      <td>2.521120</td>\n",
       "      <td>2.772120</td>\n",
       "      <td>2.772120</td>\n",
       "      <td>164329.0</td>\n",
       "    </tr>\n",
       "    <tr>\n",
       "      <th>1</th>\n",
       "      <td>2015-08-08</td>\n",
       "      <td>2.793760</td>\n",
       "      <td>2.798810</td>\n",
       "      <td>0.714725</td>\n",
       "      <td>0.753325</td>\n",
       "      <td>0.753325</td>\n",
       "      <td>674188.0</td>\n",
       "    </tr>\n",
       "    <tr>\n",
       "      <th>2</th>\n",
       "      <td>2015-08-09</td>\n",
       "      <td>0.706136</td>\n",
       "      <td>0.879810</td>\n",
       "      <td>0.629191</td>\n",
       "      <td>0.701897</td>\n",
       "      <td>0.701897</td>\n",
       "      <td>532170.0</td>\n",
       "    </tr>\n",
       "    <tr>\n",
       "      <th>3</th>\n",
       "      <td>2015-08-10</td>\n",
       "      <td>0.713989</td>\n",
       "      <td>0.729854</td>\n",
       "      <td>0.636546</td>\n",
       "      <td>0.708448</td>\n",
       "      <td>0.708448</td>\n",
       "      <td>405283.0</td>\n",
       "    </tr>\n",
       "    <tr>\n",
       "      <th>4</th>\n",
       "      <td>2015-08-11</td>\n",
       "      <td>0.708087</td>\n",
       "      <td>1.131410</td>\n",
       "      <td>0.663235</td>\n",
       "      <td>1.067860</td>\n",
       "      <td>1.067860</td>\n",
       "      <td>1463100.0</td>\n",
       "    </tr>\n",
       "  </tbody>\n",
       "</table>\n",
       "</div>"
      ],
      "text/plain": [
       "         Date      Open      High       Low     Close  Adj Close     Volume\n",
       "0  2015-08-07  2.831620  3.536610  2.521120  2.772120   2.772120   164329.0\n",
       "1  2015-08-08  2.793760  2.798810  0.714725  0.753325   0.753325   674188.0\n",
       "2  2015-08-09  0.706136  0.879810  0.629191  0.701897   0.701897   532170.0\n",
       "3  2015-08-10  0.713989  0.729854  0.636546  0.708448   0.708448   405283.0\n",
       "4  2015-08-11  0.708087  1.131410  0.663235  1.067860   1.067860  1463100.0"
      ]
     },
     "execution_count": 5,
     "metadata": {},
     "output_type": "execute_result"
    }
   ],
   "source": [
    "eth = pd.read_csv('../input/ethereum-data/ETH-USD.csv')\n",
    "eth.head()"
   ]
  },
  {
   "cell_type": "markdown",
   "id": "4cfffb84",
   "metadata": {
    "papermill": {
     "duration": 0.057044,
     "end_time": "2021-08-01T11:36:53.236830",
     "exception": false,
     "start_time": "2021-08-01T11:36:53.179786",
     "status": "completed"
    },
    "tags": []
   },
   "source": [
    "## Basic information on dataset"
   ]
  },
  {
   "cell_type": "code",
   "execution_count": 6,
   "id": "7d652d30",
   "metadata": {
    "execution": {
     "iopub.execute_input": "2021-08-01T11:36:53.356245Z",
     "iopub.status.busy": "2021-08-01T11:36:53.355652Z",
     "iopub.status.idle": "2021-08-01T11:36:53.360961Z",
     "shell.execute_reply": "2021-08-01T11:36:53.360454Z",
     "shell.execute_reply.started": "2021-08-01T09:14:59.496468Z"
    },
    "papermill": {
     "duration": 0.066489,
     "end_time": "2021-08-01T11:36:53.361084",
     "exception": false,
     "start_time": "2021-08-01T11:36:53.294595",
     "status": "completed"
    },
    "tags": []
   },
   "outputs": [
    {
     "data": {
      "text/plain": [
       "(2181, 7)"
      ]
     },
     "execution_count": 6,
     "metadata": {},
     "output_type": "execute_result"
    }
   ],
   "source": [
    "eth.shape"
   ]
  },
  {
   "cell_type": "code",
   "execution_count": 7,
   "id": "7b7f7dd7",
   "metadata": {
    "execution": {
     "iopub.execute_input": "2021-08-01T11:36:53.479355Z",
     "iopub.status.busy": "2021-08-01T11:36:53.478822Z",
     "iopub.status.idle": "2021-08-01T11:36:53.497232Z",
     "shell.execute_reply": "2021-08-01T11:36:53.497597Z",
     "shell.execute_reply.started": "2021-08-01T09:15:00.616660Z"
    },
    "papermill": {
     "duration": 0.07847,
     "end_time": "2021-08-01T11:36:53.497735",
     "exception": false,
     "start_time": "2021-08-01T11:36:53.419265",
     "status": "completed"
    },
    "tags": []
   },
   "outputs": [
    {
     "name": "stdout",
     "output_type": "stream",
     "text": [
      "<class 'pandas.core.frame.DataFrame'>\n",
      "RangeIndex: 2181 entries, 0 to 2180\n",
      "Data columns (total 7 columns):\n",
      " #   Column     Non-Null Count  Dtype  \n",
      "---  ------     --------------  -----  \n",
      " 0   Date       2181 non-null   object \n",
      " 1   Open       2177 non-null   float64\n",
      " 2   High       2177 non-null   float64\n",
      " 3   Low        2177 non-null   float64\n",
      " 4   Close      2177 non-null   float64\n",
      " 5   Adj Close  2177 non-null   float64\n",
      " 6   Volume     2177 non-null   float64\n",
      "dtypes: float64(6), object(1)\n",
      "memory usage: 119.4+ KB\n"
     ]
    }
   ],
   "source": [
    "eth.info()"
   ]
  },
  {
   "cell_type": "code",
   "execution_count": 8,
   "id": "05b67d51",
   "metadata": {
    "execution": {
     "iopub.execute_input": "2021-08-01T11:36:53.621742Z",
     "iopub.status.busy": "2021-08-01T11:36:53.621254Z",
     "iopub.status.idle": "2021-08-01T11:36:53.649278Z",
     "shell.execute_reply": "2021-08-01T11:36:53.648876Z",
     "shell.execute_reply.started": "2021-08-01T09:15:02.497044Z"
    },
    "papermill": {
     "duration": 0.093814,
     "end_time": "2021-08-01T11:36:53.649393",
     "exception": false,
     "start_time": "2021-08-01T11:36:53.555579",
     "status": "completed"
    },
    "tags": []
   },
   "outputs": [
    {
     "data": {
      "text/html": [
       "<div>\n",
       "<style scoped>\n",
       "    .dataframe tbody tr th:only-of-type {\n",
       "        vertical-align: middle;\n",
       "    }\n",
       "\n",
       "    .dataframe tbody tr th {\n",
       "        vertical-align: top;\n",
       "    }\n",
       "\n",
       "    .dataframe thead th {\n",
       "        text-align: right;\n",
       "    }\n",
       "</style>\n",
       "<table border=\"1\" class=\"dataframe\">\n",
       "  <thead>\n",
       "    <tr style=\"text-align: right;\">\n",
       "      <th></th>\n",
       "      <th>Open</th>\n",
       "      <th>High</th>\n",
       "      <th>Low</th>\n",
       "      <th>Close</th>\n",
       "      <th>Adj Close</th>\n",
       "      <th>Volume</th>\n",
       "    </tr>\n",
       "  </thead>\n",
       "  <tbody>\n",
       "    <tr>\n",
       "      <th>count</th>\n",
       "      <td>2177.000000</td>\n",
       "      <td>2177.000000</td>\n",
       "      <td>2177.000000</td>\n",
       "      <td>2177.000000</td>\n",
       "      <td>2177.000000</td>\n",
       "      <td>2.177000e+03</td>\n",
       "    </tr>\n",
       "    <tr>\n",
       "      <th>mean</th>\n",
       "      <td>398.054460</td>\n",
       "      <td>413.880550</td>\n",
       "      <td>380.314871</td>\n",
       "      <td>399.066543</td>\n",
       "      <td>399.066543</td>\n",
       "      <td>7.125412e+09</td>\n",
       "    </tr>\n",
       "    <tr>\n",
       "      <th>std</th>\n",
       "      <td>618.185352</td>\n",
       "      <td>646.694116</td>\n",
       "      <td>585.147027</td>\n",
       "      <td>619.488385</td>\n",
       "      <td>619.488385</td>\n",
       "      <td>1.065180e+10</td>\n",
       "    </tr>\n",
       "    <tr>\n",
       "      <th>min</th>\n",
       "      <td>0.431589</td>\n",
       "      <td>0.482988</td>\n",
       "      <td>0.420897</td>\n",
       "      <td>0.434829</td>\n",
       "      <td>0.434829</td>\n",
       "      <td>1.021280e+05</td>\n",
       "    </tr>\n",
       "    <tr>\n",
       "      <th>25%</th>\n",
       "      <td>13.864300</td>\n",
       "      <td>14.373900</td>\n",
       "      <td>13.254300</td>\n",
       "      <td>13.883900</td>\n",
       "      <td>13.883900</td>\n",
       "      <td>3.911200e+07</td>\n",
       "    </tr>\n",
       "    <tr>\n",
       "      <th>50%</th>\n",
       "      <td>200.608871</td>\n",
       "      <td>206.361450</td>\n",
       "      <td>194.783997</td>\n",
       "      <td>200.634995</td>\n",
       "      <td>200.634995</td>\n",
       "      <td>2.201160e+09</td>\n",
       "    </tr>\n",
       "    <tr>\n",
       "      <th>75%</th>\n",
       "      <td>391.488617</td>\n",
       "      <td>405.616364</td>\n",
       "      <td>381.273834</td>\n",
       "      <td>392.189972</td>\n",
       "      <td>392.189972</td>\n",
       "      <td>9.818257e+09</td>\n",
       "    </tr>\n",
       "    <tr>\n",
       "      <th>max</th>\n",
       "      <td>4174.635742</td>\n",
       "      <td>4362.350586</td>\n",
       "      <td>3785.848633</td>\n",
       "      <td>4168.701172</td>\n",
       "      <td>4168.701172</td>\n",
       "      <td>8.448291e+10</td>\n",
       "    </tr>\n",
       "  </tbody>\n",
       "</table>\n",
       "</div>"
      ],
      "text/plain": [
       "              Open         High          Low        Close    Adj Close  \\\n",
       "count  2177.000000  2177.000000  2177.000000  2177.000000  2177.000000   \n",
       "mean    398.054460   413.880550   380.314871   399.066543   399.066543   \n",
       "std     618.185352   646.694116   585.147027   619.488385   619.488385   \n",
       "min       0.431589     0.482988     0.420897     0.434829     0.434829   \n",
       "25%      13.864300    14.373900    13.254300    13.883900    13.883900   \n",
       "50%     200.608871   206.361450   194.783997   200.634995   200.634995   \n",
       "75%     391.488617   405.616364   381.273834   392.189972   392.189972   \n",
       "max    4174.635742  4362.350586  3785.848633  4168.701172  4168.701172   \n",
       "\n",
       "             Volume  \n",
       "count  2.177000e+03  \n",
       "mean   7.125412e+09  \n",
       "std    1.065180e+10  \n",
       "min    1.021280e+05  \n",
       "25%    3.911200e+07  \n",
       "50%    2.201160e+09  \n",
       "75%    9.818257e+09  \n",
       "max    8.448291e+10  "
      ]
     },
     "execution_count": 8,
     "metadata": {},
     "output_type": "execute_result"
    }
   ],
   "source": [
    "eth.describe()"
   ]
  },
  {
   "cell_type": "markdown",
   "id": "4743a338",
   "metadata": {
    "papermill": {
     "duration": 0.057831,
     "end_time": "2021-08-01T11:36:53.765691",
     "exception": false,
     "start_time": "2021-08-01T11:36:53.707860",
     "status": "completed"
    },
    "tags": []
   },
   "source": [
    "## Converting Date column to Datatime and setting it as index"
   ]
  },
  {
   "cell_type": "code",
   "execution_count": 9,
   "id": "76ee8538",
   "metadata": {
    "execution": {
     "iopub.execute_input": "2021-08-01T11:36:53.886187Z",
     "iopub.status.busy": "2021-08-01T11:36:53.885696Z",
     "iopub.status.idle": "2021-08-01T11:36:53.893775Z",
     "shell.execute_reply": "2021-08-01T11:36:53.893379Z",
     "shell.execute_reply.started": "2021-08-01T09:15:04.495216Z"
    },
    "papermill": {
     "duration": 0.068921,
     "end_time": "2021-08-01T11:36:53.893881",
     "exception": false,
     "start_time": "2021-08-01T11:36:53.824960",
     "status": "completed"
    },
    "tags": []
   },
   "outputs": [],
   "source": [
    "eth.Date = pd.to_datetime(eth.Date)\n"
   ]
  },
  {
   "cell_type": "code",
   "execution_count": 10,
   "id": "9458bbf5",
   "metadata": {
    "execution": {
     "iopub.execute_input": "2021-08-01T11:36:54.022248Z",
     "iopub.status.busy": "2021-08-01T11:36:54.014744Z",
     "iopub.status.idle": "2021-08-01T11:36:54.028309Z",
     "shell.execute_reply": "2021-08-01T11:36:54.027778Z",
     "shell.execute_reply.started": "2021-08-01T09:15:06.035564Z"
    },
    "papermill": {
     "duration": 0.076713,
     "end_time": "2021-08-01T11:36:54.028432",
     "exception": false,
     "start_time": "2021-08-01T11:36:53.951719",
     "status": "completed"
    },
    "tags": []
   },
   "outputs": [
    {
     "name": "stdout",
     "output_type": "stream",
     "text": [
      "<class 'pandas.core.frame.DataFrame'>\n",
      "RangeIndex: 2181 entries, 0 to 2180\n",
      "Data columns (total 7 columns):\n",
      " #   Column     Non-Null Count  Dtype         \n",
      "---  ------     --------------  -----         \n",
      " 0   Date       2181 non-null   datetime64[ns]\n",
      " 1   Open       2177 non-null   float64       \n",
      " 2   High       2177 non-null   float64       \n",
      " 3   Low        2177 non-null   float64       \n",
      " 4   Close      2177 non-null   float64       \n",
      " 5   Adj Close  2177 non-null   float64       \n",
      " 6   Volume     2177 non-null   float64       \n",
      "dtypes: datetime64[ns](1), float64(6)\n",
      "memory usage: 119.4 KB\n"
     ]
    }
   ],
   "source": [
    "eth.info()"
   ]
  },
  {
   "cell_type": "code",
   "execution_count": 11,
   "id": "674ed997",
   "metadata": {
    "execution": {
     "iopub.execute_input": "2021-08-01T11:36:54.151082Z",
     "iopub.status.busy": "2021-08-01T11:36:54.150541Z",
     "iopub.status.idle": "2021-08-01T11:36:54.154663Z",
     "shell.execute_reply": "2021-08-01T11:36:54.154232Z",
     "shell.execute_reply.started": "2021-08-01T09:15:08.258257Z"
    },
    "papermill": {
     "duration": 0.067816,
     "end_time": "2021-08-01T11:36:54.154787",
     "exception": false,
     "start_time": "2021-08-01T11:36:54.086971",
     "status": "completed"
    },
    "tags": []
   },
   "outputs": [],
   "source": [
    "eth.set_index('Date', inplace=True)"
   ]
  },
  {
   "cell_type": "code",
   "execution_count": 12,
   "id": "61361e11",
   "metadata": {
    "execution": {
     "iopub.execute_input": "2021-08-01T11:36:54.284900Z",
     "iopub.status.busy": "2021-08-01T11:36:54.284255Z",
     "iopub.status.idle": "2021-08-01T11:36:54.289326Z",
     "shell.execute_reply": "2021-08-01T11:36:54.288954Z",
     "shell.execute_reply.started": "2021-08-01T09:15:09.645898Z"
    },
    "papermill": {
     "duration": 0.07443,
     "end_time": "2021-08-01T11:36:54.289443",
     "exception": false,
     "start_time": "2021-08-01T11:36:54.215013",
     "status": "completed"
    },
    "tags": []
   },
   "outputs": [
    {
     "data": {
      "text/html": [
       "<div>\n",
       "<style scoped>\n",
       "    .dataframe tbody tr th:only-of-type {\n",
       "        vertical-align: middle;\n",
       "    }\n",
       "\n",
       "    .dataframe tbody tr th {\n",
       "        vertical-align: top;\n",
       "    }\n",
       "\n",
       "    .dataframe thead th {\n",
       "        text-align: right;\n",
       "    }\n",
       "</style>\n",
       "<table border=\"1\" class=\"dataframe\">\n",
       "  <thead>\n",
       "    <tr style=\"text-align: right;\">\n",
       "      <th></th>\n",
       "      <th>Open</th>\n",
       "      <th>High</th>\n",
       "      <th>Low</th>\n",
       "      <th>Close</th>\n",
       "      <th>Adj Close</th>\n",
       "      <th>Volume</th>\n",
       "    </tr>\n",
       "    <tr>\n",
       "      <th>Date</th>\n",
       "      <th></th>\n",
       "      <th></th>\n",
       "      <th></th>\n",
       "      <th></th>\n",
       "      <th></th>\n",
       "      <th></th>\n",
       "    </tr>\n",
       "  </thead>\n",
       "  <tbody>\n",
       "    <tr>\n",
       "      <th>2015-08-07</th>\n",
       "      <td>2.831620</td>\n",
       "      <td>3.536610</td>\n",
       "      <td>2.521120</td>\n",
       "      <td>2.772120</td>\n",
       "      <td>2.772120</td>\n",
       "      <td>164329.0</td>\n",
       "    </tr>\n",
       "    <tr>\n",
       "      <th>2015-08-08</th>\n",
       "      <td>2.793760</td>\n",
       "      <td>2.798810</td>\n",
       "      <td>0.714725</td>\n",
       "      <td>0.753325</td>\n",
       "      <td>0.753325</td>\n",
       "      <td>674188.0</td>\n",
       "    </tr>\n",
       "    <tr>\n",
       "      <th>2015-08-09</th>\n",
       "      <td>0.706136</td>\n",
       "      <td>0.879810</td>\n",
       "      <td>0.629191</td>\n",
       "      <td>0.701897</td>\n",
       "      <td>0.701897</td>\n",
       "      <td>532170.0</td>\n",
       "    </tr>\n",
       "    <tr>\n",
       "      <th>2015-08-10</th>\n",
       "      <td>0.713989</td>\n",
       "      <td>0.729854</td>\n",
       "      <td>0.636546</td>\n",
       "      <td>0.708448</td>\n",
       "      <td>0.708448</td>\n",
       "      <td>405283.0</td>\n",
       "    </tr>\n",
       "    <tr>\n",
       "      <th>2015-08-11</th>\n",
       "      <td>0.708087</td>\n",
       "      <td>1.131410</td>\n",
       "      <td>0.663235</td>\n",
       "      <td>1.067860</td>\n",
       "      <td>1.067860</td>\n",
       "      <td>1463100.0</td>\n",
       "    </tr>\n",
       "  </tbody>\n",
       "</table>\n",
       "</div>"
      ],
      "text/plain": [
       "                Open      High       Low     Close  Adj Close     Volume\n",
       "Date                                                                    \n",
       "2015-08-07  2.831620  3.536610  2.521120  2.772120   2.772120   164329.0\n",
       "2015-08-08  2.793760  2.798810  0.714725  0.753325   0.753325   674188.0\n",
       "2015-08-09  0.706136  0.879810  0.629191  0.701897   0.701897   532170.0\n",
       "2015-08-10  0.713989  0.729854  0.636546  0.708448   0.708448   405283.0\n",
       "2015-08-11  0.708087  1.131410  0.663235  1.067860   1.067860  1463100.0"
      ]
     },
     "execution_count": 12,
     "metadata": {},
     "output_type": "execute_result"
    }
   ],
   "source": [
    "eth.head()"
   ]
  },
  {
   "cell_type": "markdown",
   "id": "5eba9fcd",
   "metadata": {
    "papermill": {
     "duration": 0.058399,
     "end_time": "2021-08-01T11:36:54.407850",
     "exception": false,
     "start_time": "2021-08-01T11:36:54.349451",
     "status": "completed"
    },
    "tags": []
   },
   "source": [
    "## Finding missing values"
   ]
  },
  {
   "cell_type": "code",
   "execution_count": 13,
   "id": "8a9307da",
   "metadata": {
    "execution": {
     "iopub.execute_input": "2021-08-01T11:36:54.527613Z",
     "iopub.status.busy": "2021-08-01T11:36:54.527180Z",
     "iopub.status.idle": "2021-08-01T11:36:54.545353Z",
     "shell.execute_reply": "2021-08-01T11:36:54.544962Z",
     "shell.execute_reply.started": "2021-08-01T09:15:11.565952Z"
    },
    "papermill": {
     "duration": 0.078586,
     "end_time": "2021-08-01T11:36:54.545459",
     "exception": false,
     "start_time": "2021-08-01T11:36:54.466873",
     "status": "completed"
    },
    "tags": []
   },
   "outputs": [
    {
     "data": {
      "text/html": [
       "<div>\n",
       "<style scoped>\n",
       "    .dataframe tbody tr th:only-of-type {\n",
       "        vertical-align: middle;\n",
       "    }\n",
       "\n",
       "    .dataframe tbody tr th {\n",
       "        vertical-align: top;\n",
       "    }\n",
       "\n",
       "    .dataframe thead th {\n",
       "        text-align: right;\n",
       "    }\n",
       "</style>\n",
       "<table border=\"1\" class=\"dataframe\">\n",
       "  <thead>\n",
       "    <tr style=\"text-align: right;\">\n",
       "      <th></th>\n",
       "      <th>Open</th>\n",
       "      <th>High</th>\n",
       "      <th>Low</th>\n",
       "      <th>Close</th>\n",
       "      <th>Adj Close</th>\n",
       "      <th>Volume</th>\n",
       "    </tr>\n",
       "    <tr>\n",
       "      <th>Date</th>\n",
       "      <th></th>\n",
       "      <th></th>\n",
       "      <th></th>\n",
       "      <th></th>\n",
       "      <th></th>\n",
       "      <th></th>\n",
       "    </tr>\n",
       "  </thead>\n",
       "  <tbody>\n",
       "    <tr>\n",
       "      <th>2020-04-17</th>\n",
       "      <td>NaN</td>\n",
       "      <td>NaN</td>\n",
       "      <td>NaN</td>\n",
       "      <td>NaN</td>\n",
       "      <td>NaN</td>\n",
       "      <td>NaN</td>\n",
       "    </tr>\n",
       "    <tr>\n",
       "      <th>2020-10-09</th>\n",
       "      <td>NaN</td>\n",
       "      <td>NaN</td>\n",
       "      <td>NaN</td>\n",
       "      <td>NaN</td>\n",
       "      <td>NaN</td>\n",
       "      <td>NaN</td>\n",
       "    </tr>\n",
       "    <tr>\n",
       "      <th>2020-10-12</th>\n",
       "      <td>NaN</td>\n",
       "      <td>NaN</td>\n",
       "      <td>NaN</td>\n",
       "      <td>NaN</td>\n",
       "      <td>NaN</td>\n",
       "      <td>NaN</td>\n",
       "    </tr>\n",
       "    <tr>\n",
       "      <th>2020-10-13</th>\n",
       "      <td>NaN</td>\n",
       "      <td>NaN</td>\n",
       "      <td>NaN</td>\n",
       "      <td>NaN</td>\n",
       "      <td>NaN</td>\n",
       "      <td>NaN</td>\n",
       "    </tr>\n",
       "  </tbody>\n",
       "</table>\n",
       "</div>"
      ],
      "text/plain": [
       "            Open  High  Low  Close  Adj Close  Volume\n",
       "Date                                                 \n",
       "2020-04-17   NaN   NaN  NaN    NaN        NaN     NaN\n",
       "2020-10-09   NaN   NaN  NaN    NaN        NaN     NaN\n",
       "2020-10-12   NaN   NaN  NaN    NaN        NaN     NaN\n",
       "2020-10-13   NaN   NaN  NaN    NaN        NaN     NaN"
      ]
     },
     "execution_count": 13,
     "metadata": {},
     "output_type": "execute_result"
    }
   ],
   "source": [
    "eth[eth.isna().any(axis=1)]"
   ]
  },
  {
   "cell_type": "markdown",
   "id": "204e6176",
   "metadata": {
    "papermill": {
     "duration": 0.058608,
     "end_time": "2021-08-01T11:36:54.662201",
     "exception": false,
     "start_time": "2021-08-01T11:36:54.603593",
     "status": "completed"
    },
    "tags": []
   },
   "source": [
    "Because there are 4 rows that contains every single value missing there are few possibilities. First we could drop those 4 rows and move on. Secondly, I could find those values and fill them. I will choose the second option and fill missing values from internet."
   ]
  },
  {
   "cell_type": "code",
   "execution_count": 14,
   "id": "d9a6c28f",
   "metadata": {
    "execution": {
     "iopub.execute_input": "2021-08-01T11:36:54.781424Z",
     "iopub.status.busy": "2021-08-01T11:36:54.780999Z",
     "iopub.status.idle": "2021-08-01T11:36:54.810868Z",
     "shell.execute_reply": "2021-08-01T11:36:54.810340Z",
     "shell.execute_reply.started": "2021-08-01T09:15:13.036577Z"
    },
    "papermill": {
     "duration": 0.089913,
     "end_time": "2021-08-01T11:36:54.811023",
     "exception": false,
     "start_time": "2021-08-01T11:36:54.721110",
     "status": "completed"
    },
    "tags": []
   },
   "outputs": [
    {
     "data": {
      "text/html": [
       "<div>\n",
       "<style scoped>\n",
       "    .dataframe tbody tr th:only-of-type {\n",
       "        vertical-align: middle;\n",
       "    }\n",
       "\n",
       "    .dataframe tbody tr th {\n",
       "        vertical-align: top;\n",
       "    }\n",
       "\n",
       "    .dataframe thead th {\n",
       "        text-align: right;\n",
       "    }\n",
       "</style>\n",
       "<table border=\"1\" class=\"dataframe\">\n",
       "  <thead>\n",
       "    <tr style=\"text-align: right;\">\n",
       "      <th></th>\n",
       "      <th>Open</th>\n",
       "      <th>High</th>\n",
       "      <th>Low</th>\n",
       "      <th>Close</th>\n",
       "      <th>Adj Close</th>\n",
       "      <th>Volume</th>\n",
       "    </tr>\n",
       "    <tr>\n",
       "      <th>Date</th>\n",
       "      <th></th>\n",
       "      <th></th>\n",
       "      <th></th>\n",
       "      <th></th>\n",
       "      <th></th>\n",
       "      <th></th>\n",
       "    </tr>\n",
       "  </thead>\n",
       "  <tbody>\n",
       "    <tr>\n",
       "      <th>2020-10-07</th>\n",
       "      <td>341.091675</td>\n",
       "      <td>342.591248</td>\n",
       "      <td>335.533600</td>\n",
       "      <td>342.119781</td>\n",
       "      <td>342.119781</td>\n",
       "      <td>1.053712e+10</td>\n",
       "    </tr>\n",
       "    <tr>\n",
       "      <th>2020-10-08</th>\n",
       "      <td>342.094971</td>\n",
       "      <td>352.800385</td>\n",
       "      <td>336.497101</td>\n",
       "      <td>351.455658</td>\n",
       "      <td>351.455658</td>\n",
       "      <td>1.151102e+10</td>\n",
       "    </tr>\n",
       "    <tr>\n",
       "      <th>2020-10-09</th>\n",
       "      <td>NaN</td>\n",
       "      <td>NaN</td>\n",
       "      <td>NaN</td>\n",
       "      <td>NaN</td>\n",
       "      <td>NaN</td>\n",
       "      <td>NaN</td>\n",
       "    </tr>\n",
       "    <tr>\n",
       "      <th>2020-10-10</th>\n",
       "      <td>365.402466</td>\n",
       "      <td>378.267151</td>\n",
       "      <td>365.354034</td>\n",
       "      <td>370.967590</td>\n",
       "      <td>370.967590</td>\n",
       "      <td>1.361848e+10</td>\n",
       "    </tr>\n",
       "    <tr>\n",
       "      <th>2020-10-11</th>\n",
       "      <td>370.928436</td>\n",
       "      <td>377.246796</td>\n",
       "      <td>369.828033</td>\n",
       "      <td>375.142059</td>\n",
       "      <td>375.142059</td>\n",
       "      <td>1.258451e+10</td>\n",
       "    </tr>\n",
       "    <tr>\n",
       "      <th>2020-10-12</th>\n",
       "      <td>NaN</td>\n",
       "      <td>NaN</td>\n",
       "      <td>NaN</td>\n",
       "      <td>NaN</td>\n",
       "      <td>NaN</td>\n",
       "      <td>NaN</td>\n",
       "    </tr>\n",
       "    <tr>\n",
       "      <th>2020-10-13</th>\n",
       "      <td>NaN</td>\n",
       "      <td>NaN</td>\n",
       "      <td>NaN</td>\n",
       "      <td>NaN</td>\n",
       "      <td>NaN</td>\n",
       "      <td>NaN</td>\n",
       "    </tr>\n",
       "    <tr>\n",
       "      <th>2020-10-14</th>\n",
       "      <td>381.971466</td>\n",
       "      <td>387.296173</td>\n",
       "      <td>374.175018</td>\n",
       "      <td>379.484039</td>\n",
       "      <td>379.484039</td>\n",
       "      <td>1.391885e+10</td>\n",
       "    </tr>\n",
       "    <tr>\n",
       "      <th>2020-10-15</th>\n",
       "      <td>379.192230</td>\n",
       "      <td>381.208771</td>\n",
       "      <td>371.354126</td>\n",
       "      <td>377.441833</td>\n",
       "      <td>377.441833</td>\n",
       "      <td>1.496418e+10</td>\n",
       "    </tr>\n",
       "  </tbody>\n",
       "</table>\n",
       "</div>"
      ],
      "text/plain": [
       "                  Open        High         Low       Close   Adj Close  \\\n",
       "Date                                                                     \n",
       "2020-10-07  341.091675  342.591248  335.533600  342.119781  342.119781   \n",
       "2020-10-08  342.094971  352.800385  336.497101  351.455658  351.455658   \n",
       "2020-10-09         NaN         NaN         NaN         NaN         NaN   \n",
       "2020-10-10  365.402466  378.267151  365.354034  370.967590  370.967590   \n",
       "2020-10-11  370.928436  377.246796  369.828033  375.142059  375.142059   \n",
       "2020-10-12         NaN         NaN         NaN         NaN         NaN   \n",
       "2020-10-13         NaN         NaN         NaN         NaN         NaN   \n",
       "2020-10-14  381.971466  387.296173  374.175018  379.484039  379.484039   \n",
       "2020-10-15  379.192230  381.208771  371.354126  377.441833  377.441833   \n",
       "\n",
       "                  Volume  \n",
       "Date                      \n",
       "2020-10-07  1.053712e+10  \n",
       "2020-10-08  1.151102e+10  \n",
       "2020-10-09           NaN  \n",
       "2020-10-10  1.361848e+10  \n",
       "2020-10-11  1.258451e+10  \n",
       "2020-10-12           NaN  \n",
       "2020-10-13           NaN  \n",
       "2020-10-14  1.391885e+10  \n",
       "2020-10-15  1.496418e+10  "
      ]
     },
     "execution_count": 14,
     "metadata": {},
     "output_type": "execute_result"
    }
   ],
   "source": [
    "eth.loc['2020-10-07' :'2020-10-15', :]"
   ]
  },
  {
   "cell_type": "markdown",
   "id": "83df1acd",
   "metadata": {
    "papermill": {
     "duration": 0.090323,
     "end_time": "2021-08-01T11:36:54.991705",
     "exception": false,
     "start_time": "2021-08-01T11:36:54.901382",
     "status": "completed"
    },
    "tags": []
   },
   "source": [
    "data taken from: https://www.investing.com/crypto/ethereum/historical-data"
   ]
  },
  {
   "cell_type": "code",
   "execution_count": 15,
   "id": "21de6061",
   "metadata": {
    "execution": {
     "iopub.execute_input": "2021-08-01T11:36:55.183430Z",
     "iopub.status.busy": "2021-08-01T11:36:55.182787Z",
     "iopub.status.idle": "2021-08-01T11:36:55.185826Z",
     "shell.execute_reply": "2021-08-01T11:36:55.185426Z",
     "shell.execute_reply.started": "2021-08-01T09:15:16.447653Z"
    },
    "papermill": {
     "duration": 0.103199,
     "end_time": "2021-08-01T11:36:55.185949",
     "exception": false,
     "start_time": "2021-08-01T11:36:55.082750",
     "status": "completed"
    },
    "tags": []
   },
   "outputs": [],
   "source": [
    "eth.loc['2020-10-09', 'Open':'Volume'] = [350.71, 368.18, 347.82, 365.28, np.nan, 7850000]\n",
    "eth.loc['2020-10-12', 'Open':'Volume'] = [374.39, 394.58, 366.05, 386.68, np.nan, 10390000]\n",
    "eth.loc['2020-10-13', 'Open':'Volume'] = [386.64,387.06,374.57,381.32, np.nan, 7920000]\n",
    "eth.loc['2020-04-17', 'Open':'Volume'] = [172.32,174.52,168.55,180.63, np.nan, 20050000]"
   ]
  },
  {
   "cell_type": "code",
   "execution_count": 16,
   "id": "822b46ab",
   "metadata": {
    "execution": {
     "iopub.execute_input": "2021-08-01T11:36:55.319787Z",
     "iopub.status.busy": "2021-08-01T11:36:55.319256Z",
     "iopub.status.idle": "2021-08-01T11:36:55.324093Z",
     "shell.execute_reply": "2021-08-01T11:36:55.323624Z",
     "shell.execute_reply.started": "2021-08-01T09:15:18.165092Z"
    },
    "papermill": {
     "duration": 0.077306,
     "end_time": "2021-08-01T11:36:55.324196",
     "exception": false,
     "start_time": "2021-08-01T11:36:55.246890",
     "status": "completed"
    },
    "tags": []
   },
   "outputs": [
    {
     "data": {
      "text/html": [
       "<div>\n",
       "<style scoped>\n",
       "    .dataframe tbody tr th:only-of-type {\n",
       "        vertical-align: middle;\n",
       "    }\n",
       "\n",
       "    .dataframe tbody tr th {\n",
       "        vertical-align: top;\n",
       "    }\n",
       "\n",
       "    .dataframe thead th {\n",
       "        text-align: right;\n",
       "    }\n",
       "</style>\n",
       "<table border=\"1\" class=\"dataframe\">\n",
       "  <thead>\n",
       "    <tr style=\"text-align: right;\">\n",
       "      <th></th>\n",
       "      <th>Open</th>\n",
       "      <th>High</th>\n",
       "      <th>Low</th>\n",
       "      <th>Close</th>\n",
       "      <th>Adj Close</th>\n",
       "      <th>Volume</th>\n",
       "    </tr>\n",
       "    <tr>\n",
       "      <th>Date</th>\n",
       "      <th></th>\n",
       "      <th></th>\n",
       "      <th></th>\n",
       "      <th></th>\n",
       "      <th></th>\n",
       "      <th></th>\n",
       "    </tr>\n",
       "  </thead>\n",
       "  <tbody>\n",
       "    <tr>\n",
       "      <th>2020-10-07</th>\n",
       "      <td>341.091675</td>\n",
       "      <td>342.591248</td>\n",
       "      <td>335.533600</td>\n",
       "      <td>342.119781</td>\n",
       "      <td>342.119781</td>\n",
       "      <td>1.053712e+10</td>\n",
       "    </tr>\n",
       "    <tr>\n",
       "      <th>2020-10-08</th>\n",
       "      <td>342.094971</td>\n",
       "      <td>352.800385</td>\n",
       "      <td>336.497101</td>\n",
       "      <td>351.455658</td>\n",
       "      <td>351.455658</td>\n",
       "      <td>1.151102e+10</td>\n",
       "    </tr>\n",
       "    <tr>\n",
       "      <th>2020-10-09</th>\n",
       "      <td>350.710000</td>\n",
       "      <td>368.180000</td>\n",
       "      <td>347.820000</td>\n",
       "      <td>365.280000</td>\n",
       "      <td>NaN</td>\n",
       "      <td>7.850000e+06</td>\n",
       "    </tr>\n",
       "    <tr>\n",
       "      <th>2020-10-10</th>\n",
       "      <td>365.402466</td>\n",
       "      <td>378.267151</td>\n",
       "      <td>365.354034</td>\n",
       "      <td>370.967590</td>\n",
       "      <td>370.967590</td>\n",
       "      <td>1.361848e+10</td>\n",
       "    </tr>\n",
       "    <tr>\n",
       "      <th>2020-10-11</th>\n",
       "      <td>370.928436</td>\n",
       "      <td>377.246796</td>\n",
       "      <td>369.828033</td>\n",
       "      <td>375.142059</td>\n",
       "      <td>375.142059</td>\n",
       "      <td>1.258451e+10</td>\n",
       "    </tr>\n",
       "    <tr>\n",
       "      <th>2020-10-12</th>\n",
       "      <td>374.390000</td>\n",
       "      <td>394.580000</td>\n",
       "      <td>366.050000</td>\n",
       "      <td>386.680000</td>\n",
       "      <td>NaN</td>\n",
       "      <td>1.039000e+07</td>\n",
       "    </tr>\n",
       "    <tr>\n",
       "      <th>2020-10-13</th>\n",
       "      <td>386.640000</td>\n",
       "      <td>387.060000</td>\n",
       "      <td>374.570000</td>\n",
       "      <td>381.320000</td>\n",
       "      <td>NaN</td>\n",
       "      <td>7.920000e+06</td>\n",
       "    </tr>\n",
       "    <tr>\n",
       "      <th>2020-10-14</th>\n",
       "      <td>381.971466</td>\n",
       "      <td>387.296173</td>\n",
       "      <td>374.175018</td>\n",
       "      <td>379.484039</td>\n",
       "      <td>379.484039</td>\n",
       "      <td>1.391885e+10</td>\n",
       "    </tr>\n",
       "    <tr>\n",
       "      <th>2020-10-15</th>\n",
       "      <td>379.192230</td>\n",
       "      <td>381.208771</td>\n",
       "      <td>371.354126</td>\n",
       "      <td>377.441833</td>\n",
       "      <td>377.441833</td>\n",
       "      <td>1.496418e+10</td>\n",
       "    </tr>\n",
       "  </tbody>\n",
       "</table>\n",
       "</div>"
      ],
      "text/plain": [
       "                  Open        High         Low       Close   Adj Close  \\\n",
       "Date                                                                     \n",
       "2020-10-07  341.091675  342.591248  335.533600  342.119781  342.119781   \n",
       "2020-10-08  342.094971  352.800385  336.497101  351.455658  351.455658   \n",
       "2020-10-09  350.710000  368.180000  347.820000  365.280000         NaN   \n",
       "2020-10-10  365.402466  378.267151  365.354034  370.967590  370.967590   \n",
       "2020-10-11  370.928436  377.246796  369.828033  375.142059  375.142059   \n",
       "2020-10-12  374.390000  394.580000  366.050000  386.680000         NaN   \n",
       "2020-10-13  386.640000  387.060000  374.570000  381.320000         NaN   \n",
       "2020-10-14  381.971466  387.296173  374.175018  379.484039  379.484039   \n",
       "2020-10-15  379.192230  381.208771  371.354126  377.441833  377.441833   \n",
       "\n",
       "                  Volume  \n",
       "Date                      \n",
       "2020-10-07  1.053712e+10  \n",
       "2020-10-08  1.151102e+10  \n",
       "2020-10-09  7.850000e+06  \n",
       "2020-10-10  1.361848e+10  \n",
       "2020-10-11  1.258451e+10  \n",
       "2020-10-12  1.039000e+07  \n",
       "2020-10-13  7.920000e+06  \n",
       "2020-10-14  1.391885e+10  \n",
       "2020-10-15  1.496418e+10  "
      ]
     },
     "execution_count": 16,
     "metadata": {},
     "output_type": "execute_result"
    }
   ],
   "source": [
    "eth.loc['2020-10-07' :'2020-10-15', :]"
   ]
  },
  {
   "cell_type": "markdown",
   "id": "b1cef1c7",
   "metadata": {
    "papermill": {
     "duration": 0.060344,
     "end_time": "2021-08-01T11:36:55.444295",
     "exception": false,
     "start_time": "2021-08-01T11:36:55.383951",
     "status": "completed"
    },
    "tags": []
   },
   "source": [
    "# Price Changes"
   ]
  },
  {
   "cell_type": "code",
   "execution_count": 17,
   "id": "78c72ac8",
   "metadata": {
    "execution": {
     "iopub.execute_input": "2021-08-01T11:36:55.583297Z",
     "iopub.status.busy": "2021-08-01T11:36:55.582616Z",
     "iopub.status.idle": "2021-08-01T11:36:55.873536Z",
     "shell.execute_reply": "2021-08-01T11:36:55.873152Z",
     "shell.execute_reply.started": "2021-08-01T09:15:19.858621Z"
    },
    "papermill": {
     "duration": 0.36652,
     "end_time": "2021-08-01T11:36:55.873642",
     "exception": false,
     "start_time": "2021-08-01T11:36:55.507122",
     "status": "completed"
    },
    "tags": []
   },
   "outputs": [
    {
     "data": {
      "image/png": "[encoded data removed]",
      "text/plain": [
       "<Figure size 2012.5x575 with 2 Axes>"
      ]
     },
     "metadata": {},
     "output_type": "display_data"
    }
   ],
   "source": [
    "mpf.plot(eth, type='line', style='yahoo', figratio=(35,10))"
   ]
  },
  {
   "cell_type": "markdown",
   "id": "d9d27356",
   "metadata": {
    "papermill": {
     "duration": 0.061825,
     "end_time": "2021-08-01T11:36:55.997482",
     "exception": false,
     "start_time": "2021-08-01T11:36:55.935657",
     "status": "completed"
    },
    "tags": []
   },
   "source": [
    "## Price Changes in 2017"
   ]
  },
  {
   "cell_type": "code",
   "execution_count": 18,
   "id": "a724d28e",
   "metadata": {
    "execution": {
     "iopub.execute_input": "2021-08-01T11:36:56.149306Z",
     "iopub.status.busy": "2021-08-01T11:36:56.126259Z",
     "iopub.status.idle": "2021-08-01T11:36:56.364965Z",
     "shell.execute_reply": "2021-08-01T11:36:56.364466Z",
     "shell.execute_reply.started": "2021-08-01T09:15:22.916403Z"
    },
    "papermill": {
     "duration": 0.307159,
     "end_time": "2021-08-01T11:36:56.365070",
     "exception": false,
     "start_time": "2021-08-01T11:36:56.057911",
     "status": "completed"
    },
    "tags": []
   },
   "outputs": [
    {
     "data": {
      "image/png": "[encoded data removed]",
      "text/plain": [
       "<Figure size 2012.5x575 with 2 Axes>"
      ]
     },
     "metadata": {},
     "output_type": "display_data"
    }
   ],
   "source": [
    "mpf.plot(eth.loc['2017-05-12':'2017-08-12', :], type='candle', style='yahoo', figratio=(35,10))"
   ]
  },
  {
   "cell_type": "markdown",
   "id": "c63958b2",
   "metadata": {
    "papermill": {
     "duration": 0.064247,
     "end_time": "2021-08-01T11:36:56.493160",
     "exception": false,
     "start_time": "2021-08-01T11:36:56.428913",
     "status": "completed"
    },
    "tags": []
   },
   "source": [
    "## Price Changes in 2021"
   ]
  },
  {
   "cell_type": "code",
   "execution_count": 19,
   "id": "e85e1854",
   "metadata": {
    "execution": {
     "iopub.execute_input": "2021-08-01T11:36:56.637350Z",
     "iopub.status.busy": "2021-08-01T11:36:56.624626Z",
     "iopub.status.idle": "2021-08-01T11:36:56.848050Z",
     "shell.execute_reply": "2021-08-01T11:36:56.848533Z",
     "shell.execute_reply.started": "2021-08-01T09:15:27.616695Z"
    },
    "papermill": {
     "duration": 0.290301,
     "end_time": "2021-08-01T11:36:56.848700",
     "exception": false,
     "start_time": "2021-08-01T11:36:56.558399",
     "status": "completed"
    },
    "tags": []
   },
   "outputs": [
    {
     "data": {
      "image/png": "[encoded data removed]",
      "text/plain": [
       "<Figure size 2012.5x575 with 2 Axes>"
      ]
     },
     "metadata": {},
     "output_type": "display_data"
    }
   ],
   "source": [
    "mpf.plot(eth.loc['2020-12-26':'2021-05-26', :], type='candle', style='yahoo', figratio=(35,10))"
   ]
  },
  {
   "cell_type": "markdown",
   "id": "7b7c65fd",
   "metadata": {
    "papermill": {
     "duration": 0.097153,
     "end_time": "2021-08-01T11:36:57.040902",
     "exception": false,
     "start_time": "2021-08-01T11:36:56.943749",
     "status": "completed"
    },
    "tags": []
   },
   "source": [
    "# Volume Traded"
   ]
  },
  {
   "cell_type": "markdown",
   "id": "80dff341",
   "metadata": {
    "papermill": {
     "duration": 0.095064,
     "end_time": "2021-08-01T11:36:57.232849",
     "exception": false,
     "start_time": "2021-08-01T11:36:57.137785",
     "status": "completed"
    },
    "tags": []
   },
   "source": [
    "## Average Valume Traded Each Month"
   ]
  },
  {
   "cell_type": "code",
   "execution_count": 20,
   "id": "a9c5245d",
   "metadata": {
    "execution": {
     "iopub.execute_input": "2021-08-01T11:36:57.427014Z",
     "iopub.status.busy": "2021-08-01T11:36:57.426076Z",
     "iopub.status.idle": "2021-08-01T11:36:57.433048Z",
     "shell.execute_reply": "2021-08-01T11:36:57.433420Z",
     "shell.execute_reply.started": "2021-08-01T09:15:34.767053Z"
    },
    "papermill": {
     "duration": 0.105852,
     "end_time": "2021-08-01T11:36:57.433571",
     "exception": false,
     "start_time": "2021-08-01T11:36:57.327719",
     "status": "completed"
    },
    "tags": []
   },
   "outputs": [],
   "source": [
    "# Finding average valume traded each month\n",
    "avg_vol = eth.groupby([eth.index.year,eth.index.month]).mean()"
   ]
  },
  {
   "cell_type": "code",
   "execution_count": 21,
   "id": "fbc25dd1",
   "metadata": {
    "execution": {
     "iopub.execute_input": "2021-08-01T11:36:57.565107Z",
     "iopub.status.busy": "2021-08-01T11:36:57.564562Z",
     "iopub.status.idle": "2021-08-01T11:36:57.579754Z",
     "shell.execute_reply": "2021-08-01T11:36:57.580191Z",
     "shell.execute_reply.started": "2021-08-01T09:15:36.606322Z"
    },
    "papermill": {
     "duration": 0.081976,
     "end_time": "2021-08-01T11:36:57.580335",
     "exception": false,
     "start_time": "2021-08-01T11:36:57.498359",
     "status": "completed"
    },
    "tags": []
   },
   "outputs": [
    {
     "data": {
      "text/html": [
       "<div>\n",
       "<style scoped>\n",
       "    .dataframe tbody tr th:only-of-type {\n",
       "        vertical-align: middle;\n",
       "    }\n",
       "\n",
       "    .dataframe tbody tr th {\n",
       "        vertical-align: top;\n",
       "    }\n",
       "\n",
       "    .dataframe thead th {\n",
       "        text-align: right;\n",
       "    }\n",
       "</style>\n",
       "<table border=\"1\" class=\"dataframe\">\n",
       "  <thead>\n",
       "    <tr style=\"text-align: right;\">\n",
       "      <th></th>\n",
       "      <th></th>\n",
       "      <th>Open</th>\n",
       "      <th>High</th>\n",
       "      <th>Low</th>\n",
       "      <th>Close</th>\n",
       "      <th>Adj Close</th>\n",
       "      <th>Volume</th>\n",
       "    </tr>\n",
       "    <tr>\n",
       "      <th>Date</th>\n",
       "      <th>Date</th>\n",
       "      <th></th>\n",
       "      <th></th>\n",
       "      <th></th>\n",
       "      <th></th>\n",
       "      <th></th>\n",
       "      <th></th>\n",
       "    </tr>\n",
       "  </thead>\n",
       "  <tbody>\n",
       "    <tr>\n",
       "      <th rowspan=\"5\" valign=\"top\">2021</th>\n",
       "      <th>6</th>\n",
       "      <td>2349.590800</td>\n",
       "      <td>2436.047673</td>\n",
       "      <td>2230.221659</td>\n",
       "      <td>2335.792391</td>\n",
       "      <td>2335.792391</td>\n",
       "      <td>2.711744e+10</td>\n",
       "    </tr>\n",
       "    <tr>\n",
       "      <th>4</th>\n",
       "      <td>2269.130294</td>\n",
       "      <td>2358.593412</td>\n",
       "      <td>2188.690780</td>\n",
       "      <td>2297.672754</td>\n",
       "      <td>2297.672754</td>\n",
       "      <td>3.317781e+10</td>\n",
       "    </tr>\n",
       "    <tr>\n",
       "      <th>2</th>\n",
       "      <td>1696.234375</td>\n",
       "      <td>1762.362026</td>\n",
       "      <td>1611.841108</td>\n",
       "      <td>1699.808921</td>\n",
       "      <td>1699.808921</td>\n",
       "      <td>3.598993e+10</td>\n",
       "    </tr>\n",
       "    <tr>\n",
       "      <th>1</th>\n",
       "      <td>1184.997553</td>\n",
       "      <td>1258.106819</td>\n",
       "      <td>1109.896723</td>\n",
       "      <td>1201.393435</td>\n",
       "      <td>1201.393435</td>\n",
       "      <td>3.828379e+10</td>\n",
       "    </tr>\n",
       "    <tr>\n",
       "      <th>5</th>\n",
       "      <td>3142.513688</td>\n",
       "      <td>3342.987061</td>\n",
       "      <td>2894.248913</td>\n",
       "      <td>3140.730760</td>\n",
       "      <td>3140.730760</td>\n",
       "      <td>4.872032e+10</td>\n",
       "    </tr>\n",
       "  </tbody>\n",
       "</table>\n",
       "</div>"
      ],
      "text/plain": [
       "                  Open         High          Low        Close    Adj Close  \\\n",
       "Date Date                                                                    \n",
       "2021 6     2349.590800  2436.047673  2230.221659  2335.792391  2335.792391   \n",
       "     4     2269.130294  2358.593412  2188.690780  2297.672754  2297.672754   \n",
       "     2     1696.234375  1762.362026  1611.841108  1699.808921  1699.808921   \n",
       "     1     1184.997553  1258.106819  1109.896723  1201.393435  1201.393435   \n",
       "     5     3142.513688  3342.987061  2894.248913  3140.730760  3140.730760   \n",
       "\n",
       "                 Volume  \n",
       "Date Date                \n",
       "2021 6     2.711744e+10  \n",
       "     4     3.317781e+10  \n",
       "     2     3.598993e+10  \n",
       "     1     3.828379e+10  \n",
       "     5     4.872032e+10  "
      ]
     },
     "execution_count": 21,
     "metadata": {},
     "output_type": "execute_result"
    }
   ],
   "source": [
    "avg_vol.sort_values('Volume').tail()"
   ]
  },
  {
   "cell_type": "code",
   "execution_count": 22,
   "id": "6967ca35",
   "metadata": {
    "execution": {
     "iopub.execute_input": "2021-08-01T11:36:57.713715Z",
     "iopub.status.busy": "2021-08-01T11:36:57.713196Z",
     "iopub.status.idle": "2021-08-01T11:36:57.716864Z",
     "shell.execute_reply": "2021-08-01T11:36:57.717293Z",
     "shell.execute_reply.started": "2021-08-01T09:15:37.996372Z"
    },
    "papermill": {
     "duration": 0.071986,
     "end_time": "2021-08-01T11:36:57.717450",
     "exception": false,
     "start_time": "2021-08-01T11:36:57.645464",
     "status": "completed"
    },
    "tags": []
   },
   "outputs": [],
   "source": [
    "avg_vol.index.names = ['Year', 'Month']\n",
    "avg_vol.reset_index(inplace=True)"
   ]
  },
  {
   "cell_type": "code",
   "execution_count": 23,
   "id": "8e7e1838",
   "metadata": {
    "execution": {
     "iopub.execute_input": "2021-08-01T11:36:57.853848Z",
     "iopub.status.busy": "2021-08-01T11:36:57.853336Z",
     "iopub.status.idle": "2021-08-01T11:36:59.116202Z",
     "shell.execute_reply": "2021-08-01T11:36:59.116565Z",
     "shell.execute_reply.started": "2021-08-01T09:59:03.558999Z"
    },
    "papermill": {
     "duration": 1.332107,
     "end_time": "2021-08-01T11:36:59.116699",
     "exception": false,
     "start_time": "2021-08-01T11:36:57.784592",
     "status": "completed"
    },
    "tags": []
   },
   "outputs": [
    {
     "data": {
      "image/png": "[encoded data removed]",
      "text/plain": [
       "<Figure size 640x480 with 1 Axes>"
      ]
     },
     "metadata": {},
     "output_type": "display_data"
    }
   ],
   "source": [
    "ax = sns.barplot(x='Month', y='Volume', hue='Year', data=avg_vol, palette=['#086623','#3F704D','#00A86B','#29AB87','#01796F','#4CBB17','#043927'])\n",
    "ax.patch.set_facecolor('white')\n",
    "ax.patch.set_alpha(1.0)\n",
    "\n",
    "ax = plt.title('Average Volume Traded Each Month', fontsize=24, loc='center', fontweight='heavy', pad=32)"
   ]
  },
  {
   "cell_type": "markdown",
   "id": "80404439",
   "metadata": {
    "papermill": {
     "duration": 0.065643,
     "end_time": "2021-08-01T11:36:59.248760",
     "exception": false,
     "start_time": "2021-08-01T11:36:59.183117",
     "status": "completed"
    },
    "tags": []
   },
   "source": [
    "## Etheruem Volumes Traded"
   ]
  },
  {
   "cell_type": "code",
   "execution_count": 24,
   "id": "ddff3229",
   "metadata": {
    "execution": {
     "iopub.execute_input": "2021-08-01T11:36:59.390276Z",
     "iopub.status.busy": "2021-08-01T11:36:59.389767Z",
     "iopub.status.idle": "2021-08-01T11:36:59.393704Z",
     "shell.execute_reply": "2021-08-01T11:36:59.393256Z",
     "shell.execute_reply.started": "2021-08-01T09:40:04.466214Z"
    },
    "papermill": {
     "duration": 0.080063,
     "end_time": "2021-08-01T11:36:59.393807",
     "exception": false,
     "start_time": "2021-08-01T11:36:59.313744",
     "status": "completed"
    },
    "tags": []
   },
   "outputs": [
    {
     "data": {
      "text/html": [
       "<div>\n",
       "<style scoped>\n",
       "    .dataframe tbody tr th:only-of-type {\n",
       "        vertical-align: middle;\n",
       "    }\n",
       "\n",
       "    .dataframe tbody tr th {\n",
       "        vertical-align: top;\n",
       "    }\n",
       "\n",
       "    .dataframe thead th {\n",
       "        text-align: right;\n",
       "    }\n",
       "</style>\n",
       "<table border=\"1\" class=\"dataframe\">\n",
       "  <thead>\n",
       "    <tr style=\"text-align: right;\">\n",
       "      <th></th>\n",
       "      <th>Open</th>\n",
       "      <th>High</th>\n",
       "      <th>Low</th>\n",
       "      <th>Close</th>\n",
       "      <th>Adj Close</th>\n",
       "      <th>Volume</th>\n",
       "    </tr>\n",
       "    <tr>\n",
       "      <th>Date</th>\n",
       "      <th></th>\n",
       "      <th></th>\n",
       "      <th></th>\n",
       "      <th></th>\n",
       "      <th></th>\n",
       "      <th></th>\n",
       "    </tr>\n",
       "  </thead>\n",
       "  <tbody>\n",
       "    <tr>\n",
       "      <th>2015-08-07</th>\n",
       "      <td>2.831620</td>\n",
       "      <td>3.536610</td>\n",
       "      <td>2.521120</td>\n",
       "      <td>2.772120</td>\n",
       "      <td>2.772120</td>\n",
       "      <td>164329.0</td>\n",
       "    </tr>\n",
       "    <tr>\n",
       "      <th>2015-08-08</th>\n",
       "      <td>2.793760</td>\n",
       "      <td>2.798810</td>\n",
       "      <td>0.714725</td>\n",
       "      <td>0.753325</td>\n",
       "      <td>0.753325</td>\n",
       "      <td>674188.0</td>\n",
       "    </tr>\n",
       "    <tr>\n",
       "      <th>2015-08-09</th>\n",
       "      <td>0.706136</td>\n",
       "      <td>0.879810</td>\n",
       "      <td>0.629191</td>\n",
       "      <td>0.701897</td>\n",
       "      <td>0.701897</td>\n",
       "      <td>532170.0</td>\n",
       "    </tr>\n",
       "    <tr>\n",
       "      <th>2015-08-10</th>\n",
       "      <td>0.713989</td>\n",
       "      <td>0.729854</td>\n",
       "      <td>0.636546</td>\n",
       "      <td>0.708448</td>\n",
       "      <td>0.708448</td>\n",
       "      <td>405283.0</td>\n",
       "    </tr>\n",
       "    <tr>\n",
       "      <th>2015-08-11</th>\n",
       "      <td>0.708087</td>\n",
       "      <td>1.131410</td>\n",
       "      <td>0.663235</td>\n",
       "      <td>1.067860</td>\n",
       "      <td>1.067860</td>\n",
       "      <td>1463100.0</td>\n",
       "    </tr>\n",
       "  </tbody>\n",
       "</table>\n",
       "</div>"
      ],
      "text/plain": [
       "                Open      High       Low     Close  Adj Close     Volume\n",
       "Date                                                                    \n",
       "2015-08-07  2.831620  3.536610  2.521120  2.772120   2.772120   164329.0\n",
       "2015-08-08  2.793760  2.798810  0.714725  0.753325   0.753325   674188.0\n",
       "2015-08-09  0.706136  0.879810  0.629191  0.701897   0.701897   532170.0\n",
       "2015-08-10  0.713989  0.729854  0.636546  0.708448   0.708448   405283.0\n",
       "2015-08-11  0.708087  1.131410  0.663235  1.067860   1.067860  1463100.0"
      ]
     },
     "execution_count": 24,
     "metadata": {},
     "output_type": "execute_result"
    }
   ],
   "source": [
    "eth.head()"
   ]
  },
  {
   "cell_type": "code",
   "execution_count": 25,
   "id": "144e04f4",
   "metadata": {
    "execution": {
     "iopub.execute_input": "2021-08-01T11:36:59.533902Z",
     "iopub.status.busy": "2021-08-01T11:36:59.533429Z",
     "iopub.status.idle": "2021-08-01T11:36:59.553819Z",
     "shell.execute_reply": "2021-08-01T11:36:59.554182Z",
     "shell.execute_reply.started": "2021-08-01T09:54:05.786428Z"
    },
    "papermill": {
     "duration": 0.093551,
     "end_time": "2021-08-01T11:36:59.554320",
     "exception": false,
     "start_time": "2021-08-01T11:36:59.460769",
     "status": "completed"
    },
    "tags": []
   },
   "outputs": [],
   "source": [
    "df = pd.pivot_table(eth, values='Volume', index=[eth.index.year, eth.index.month], aggfunc=np.sum)\n",
    "df.index.names = ['Year','Month']\n",
    "df.reset_index(inplace=True)\n",
    "\n",
    "df['Date'] = df['Year'].astype(str) + '-' + df['Month'].astype(str)\n",
    "df.drop(columns=['Year', 'Month'], inplace=True)\n",
    "\n",
    "df['Date'] = pd.to_datetime(df.Date)\n",
    "df['Date'] = df['Date'].dt.strftime('%Y-%m')\n"
   ]
  },
  {
   "cell_type": "code",
   "execution_count": 26,
   "id": "6aa79f20",
   "metadata": {
    "execution": {
     "iopub.execute_input": "2021-08-01T11:36:59.688355Z",
     "iopub.status.busy": "2021-08-01T11:36:59.687904Z",
     "iopub.status.idle": "2021-08-01T11:37:00.250823Z",
     "shell.execute_reply": "2021-08-01T11:37:00.250372Z",
     "shell.execute_reply.started": "2021-08-01T09:59:25.293765Z"
    },
    "papermill": {
     "duration": 0.631087,
     "end_time": "2021-08-01T11:37:00.250953",
     "exception": false,
     "start_time": "2021-08-01T11:36:59.619866",
     "status": "completed"
    },
    "tags": []
   },
   "outputs": [
    {
     "data": {
      "image/png": "[encoded data removed]",
      "text/plain": [
       "<Figure size 640x480 with 1 Axes>"
      ]
     },
     "metadata": {},
     "output_type": "display_data"
    }
   ],
   "source": [
    "ax = sns.barplot(x='Date', y='Volume', data=df, color='#043927')\n",
    "ax.patch.set_facecolor('white')\n",
    "ax.patch.set_alpha(1.0)\n",
    "ax = plt.xticks([])\n",
    "ax = plt.title('ETH Volumes Traded Daily', fontsize=24, loc='center', fontweight='heavy', pad=32)"
   ]
  },
  {
   "cell_type": "markdown",
   "id": "f2c41b03",
   "metadata": {
    "papermill": {
     "duration": 0.066567,
     "end_time": "2021-08-01T11:37:00.383808",
     "exception": false,
     "start_time": "2021-08-01T11:37:00.317241",
     "status": "completed"
    },
    "tags": []
   },
   "source": [
    "# Which day/month/year was most/less profitable to invest?"
   ]
  },
  {
   "cell_type": "markdown",
   "id": "cf5117c6",
   "metadata": {
    "papermill": {
     "duration": 0.067507,
     "end_time": "2021-08-01T11:37:00.518894",
     "exception": false,
     "start_time": "2021-08-01T11:37:00.451387",
     "status": "completed"
    },
    "tags": []
   },
   "source": [
    "## Daily ROI"
   ]
  },
  {
   "cell_type": "code",
   "execution_count": 27,
   "id": "22aa26b3",
   "metadata": {
    "execution": {
     "iopub.execute_input": "2021-08-01T11:37:00.660735Z",
     "iopub.status.busy": "2021-08-01T11:37:00.660078Z",
     "iopub.status.idle": "2021-08-01T11:37:00.662730Z",
     "shell.execute_reply": "2021-08-01T11:37:00.662299Z",
     "shell.execute_reply.started": "2021-08-01T09:59:35.062658Z"
    },
    "papermill": {
     "duration": 0.076074,
     "end_time": "2021-08-01T11:37:00.662838",
     "exception": false,
     "start_time": "2021-08-01T11:37:00.586764",
     "status": "completed"
    },
    "tags": []
   },
   "outputs": [],
   "source": [
    "eth['Daily_ROI'] = (eth.Close/eth.Open*100)-100"
   ]
  },
  {
   "cell_type": "code",
   "execution_count": 28,
   "id": "e29ed167",
   "metadata": {
    "execution": {
     "iopub.execute_input": "2021-08-01T11:37:00.810578Z",
     "iopub.status.busy": "2021-08-01T11:37:00.809905Z",
     "iopub.status.idle": "2021-08-01T11:37:00.813983Z",
     "shell.execute_reply": "2021-08-01T11:37:00.813498Z",
     "shell.execute_reply.started": "2021-08-01T09:59:36.611006Z"
    },
    "papermill": {
     "duration": 0.084239,
     "end_time": "2021-08-01T11:37:00.814084",
     "exception": false,
     "start_time": "2021-08-01T11:37:00.729845",
     "status": "completed"
    },
    "tags": []
   },
   "outputs": [
    {
     "data": {
      "text/html": [
       "<div>\n",
       "<style scoped>\n",
       "    .dataframe tbody tr th:only-of-type {\n",
       "        vertical-align: middle;\n",
       "    }\n",
       "\n",
       "    .dataframe tbody tr th {\n",
       "        vertical-align: top;\n",
       "    }\n",
       "\n",
       "    .dataframe thead th {\n",
       "        text-align: right;\n",
       "    }\n",
       "</style>\n",
       "<table border=\"1\" class=\"dataframe\">\n",
       "  <thead>\n",
       "    <tr style=\"text-align: right;\">\n",
       "      <th></th>\n",
       "      <th>Open</th>\n",
       "      <th>High</th>\n",
       "      <th>Low</th>\n",
       "      <th>Close</th>\n",
       "      <th>Adj Close</th>\n",
       "      <th>Volume</th>\n",
       "      <th>Daily_ROI</th>\n",
       "    </tr>\n",
       "    <tr>\n",
       "      <th>Date</th>\n",
       "      <th></th>\n",
       "      <th></th>\n",
       "      <th></th>\n",
       "      <th></th>\n",
       "      <th></th>\n",
       "      <th></th>\n",
       "      <th></th>\n",
       "    </tr>\n",
       "  </thead>\n",
       "  <tbody>\n",
       "    <tr>\n",
       "      <th>2015-08-07</th>\n",
       "      <td>2.831620</td>\n",
       "      <td>3.536610</td>\n",
       "      <td>2.521120</td>\n",
       "      <td>2.772120</td>\n",
       "      <td>2.772120</td>\n",
       "      <td>164329.0</td>\n",
       "      <td>-2.101271</td>\n",
       "    </tr>\n",
       "    <tr>\n",
       "      <th>2015-08-08</th>\n",
       "      <td>2.793760</td>\n",
       "      <td>2.798810</td>\n",
       "      <td>0.714725</td>\n",
       "      <td>0.753325</td>\n",
       "      <td>0.753325</td>\n",
       "      <td>674188.0</td>\n",
       "      <td>-73.035443</td>\n",
       "    </tr>\n",
       "    <tr>\n",
       "      <th>2015-08-09</th>\n",
       "      <td>0.706136</td>\n",
       "      <td>0.879810</td>\n",
       "      <td>0.629191</td>\n",
       "      <td>0.701897</td>\n",
       "      <td>0.701897</td>\n",
       "      <td>532170.0</td>\n",
       "      <td>-0.600309</td>\n",
       "    </tr>\n",
       "    <tr>\n",
       "      <th>2015-08-10</th>\n",
       "      <td>0.713989</td>\n",
       "      <td>0.729854</td>\n",
       "      <td>0.636546</td>\n",
       "      <td>0.708448</td>\n",
       "      <td>0.708448</td>\n",
       "      <td>405283.0</td>\n",
       "      <td>-0.776062</td>\n",
       "    </tr>\n",
       "    <tr>\n",
       "      <th>2015-08-11</th>\n",
       "      <td>0.708087</td>\n",
       "      <td>1.131410</td>\n",
       "      <td>0.663235</td>\n",
       "      <td>1.067860</td>\n",
       "      <td>1.067860</td>\n",
       "      <td>1463100.0</td>\n",
       "      <td>50.809152</td>\n",
       "    </tr>\n",
       "  </tbody>\n",
       "</table>\n",
       "</div>"
      ],
      "text/plain": [
       "                Open      High       Low     Close  Adj Close     Volume  \\\n",
       "Date                                                                       \n",
       "2015-08-07  2.831620  3.536610  2.521120  2.772120   2.772120   164329.0   \n",
       "2015-08-08  2.793760  2.798810  0.714725  0.753325   0.753325   674188.0   \n",
       "2015-08-09  0.706136  0.879810  0.629191  0.701897   0.701897   532170.0   \n",
       "2015-08-10  0.713989  0.729854  0.636546  0.708448   0.708448   405283.0   \n",
       "2015-08-11  0.708087  1.131410  0.663235  1.067860   1.067860  1463100.0   \n",
       "\n",
       "            Daily_ROI  \n",
       "Date                   \n",
       "2015-08-07  -2.101271  \n",
       "2015-08-08 -73.035443  \n",
       "2015-08-09  -0.600309  \n",
       "2015-08-10  -0.776062  \n",
       "2015-08-11  50.809152  "
      ]
     },
     "execution_count": 28,
     "metadata": {},
     "output_type": "execute_result"
    }
   ],
   "source": [
    "eth.head()"
   ]
  },
  {
   "cell_type": "code",
   "execution_count": 29,
   "id": "fe57f232",
   "metadata": {
    "execution": {
     "iopub.execute_input": "2021-08-01T11:37:00.991804Z",
     "iopub.status.busy": "2021-08-01T11:37:00.990823Z",
     "iopub.status.idle": "2021-08-01T11:37:01.398097Z",
     "shell.execute_reply": "2021-08-01T11:37:01.397667Z",
     "shell.execute_reply.started": "2021-08-01T10:00:34.699577Z"
    },
    "papermill": {
     "duration": 0.517261,
     "end_time": "2021-08-01T11:37:01.398211",
     "exception": false,
     "start_time": "2021-08-01T11:37:00.880950",
     "status": "completed"
    },
    "tags": []
   },
   "outputs": [
    {
     "data": {
      "image/png": "[encoded data removed]",
      "text/plain": [
       "<Figure size 640x480 with 1 Axes>"
      ]
     },
     "metadata": {},
     "output_type": "display_data"
    }
   ],
   "source": [
    "ax = sns.lineplot(x=eth.index, y=eth.Daily_ROI, data=eth, color='#043927')\n",
    "ax.patch.set_facecolor('white')\n",
    "ax.patch.set_alpha(1.0)\n",
    "ax = plt.xticks([])\n",
    "ax = plt.title('ETH Daily Return of Investment', fontsize=24, loc='center', fontweight='heavy', pad=32)"
   ]
  },
  {
   "cell_type": "markdown",
   "id": "14cf7d40",
   "metadata": {
    "papermill": {
     "duration": 0.069832,
     "end_time": "2021-08-01T11:37:01.537975",
     "exception": false,
     "start_time": "2021-08-01T11:37:01.468143",
     "status": "completed"
    },
    "tags": []
   },
   "source": [
    "### 5 Most Profitable Days to invest"
   ]
  },
  {
   "cell_type": "code",
   "execution_count": 30,
   "id": "72bef81c",
   "metadata": {
    "execution": {
     "iopub.execute_input": "2021-08-01T11:37:01.682049Z",
     "iopub.status.busy": "2021-08-01T11:37:01.681529Z",
     "iopub.status.idle": "2021-08-01T11:37:01.688242Z",
     "shell.execute_reply": "2021-08-01T11:37:01.687762Z",
     "shell.execute_reply.started": "2021-08-01T10:00:43.055673Z"
    },
    "papermill": {
     "duration": 0.079902,
     "end_time": "2021-08-01T11:37:01.688352",
     "exception": false,
     "start_time": "2021-08-01T11:37:01.608450",
     "status": "completed"
    },
    "tags": []
   },
   "outputs": [
    {
     "data": {
      "text/plain": [
       "Date\n",
       "2015-08-11    50.809152\n",
       "2015-08-13    49.534461\n",
       "2016-02-11    33.718939\n",
       "2017-05-19    33.460332\n",
       "2016-01-23    31.151105\n",
       "Name: Daily_ROI, dtype: float64"
      ]
     },
     "execution_count": 30,
     "metadata": {},
     "output_type": "execute_result"
    }
   ],
   "source": [
    "eth.Daily_ROI.sort_values(ascending=False).head()"
   ]
  },
  {
   "cell_type": "markdown",
   "id": "44231131",
   "metadata": {
    "papermill": {
     "duration": 0.068424,
     "end_time": "2021-08-01T11:37:01.825071",
     "exception": false,
     "start_time": "2021-08-01T11:37:01.756647",
     "status": "completed"
    },
    "tags": []
   },
   "source": [
    "### 5 Least Profitable Days to invest"
   ]
  },
  {
   "cell_type": "code",
   "execution_count": 31,
   "id": "72c61cb3",
   "metadata": {
    "execution": {
     "iopub.execute_input": "2021-08-01T11:37:01.968735Z",
     "iopub.status.busy": "2021-08-01T11:37:01.968048Z",
     "iopub.status.idle": "2021-08-01T11:37:01.974373Z",
     "shell.execute_reply": "2021-08-01T11:37:01.973875Z",
     "shell.execute_reply.started": "2021-08-01T10:00:44.694960Z"
    },
    "papermill": {
     "duration": 0.081121,
     "end_time": "2021-08-01T11:37:01.974489",
     "exception": false,
     "start_time": "2021-08-01T11:37:01.893368",
     "status": "completed"
    },
    "tags": []
   },
   "outputs": [
    {
     "data": {
      "text/plain": [
       "Date\n",
       "2015-08-08   -73.035443\n",
       "2020-03-12   -42.308851\n",
       "2021-05-19   -27.256029\n",
       "2017-03-18   -27.123666\n",
       "2016-06-18   -26.321642\n",
       "Name: Daily_ROI, dtype: float64"
      ]
     },
     "execution_count": 31,
     "metadata": {},
     "output_type": "execute_result"
    }
   ],
   "source": [
    "eth.Daily_ROI.sort_values().head()"
   ]
  },
  {
   "cell_type": "markdown",
   "id": "eee4a7ee",
   "metadata": {
    "papermill": {
     "duration": 0.068488,
     "end_time": "2021-08-01T11:37:02.113025",
     "exception": false,
     "start_time": "2021-08-01T11:37:02.044537",
     "status": "completed"
    },
    "tags": []
   },
   "source": [
    "## Monthly ROI"
   ]
  },
  {
   "cell_type": "code",
   "execution_count": 32,
   "id": "033f6b33",
   "metadata": {
    "execution": {
     "iopub.execute_input": "2021-08-01T11:37:02.264326Z",
     "iopub.status.busy": "2021-08-01T11:37:02.258431Z",
     "iopub.status.idle": "2021-08-01T11:37:02.270949Z",
     "shell.execute_reply": "2021-08-01T11:37:02.270360Z",
     "shell.execute_reply.started": "2021-08-01T10:00:46.684604Z"
    },
    "papermill": {
     "duration": 0.090065,
     "end_time": "2021-08-01T11:37:02.271086",
     "exception": false,
     "start_time": "2021-08-01T11:37:02.181021",
     "status": "completed"
    },
    "tags": []
   },
   "outputs": [
    {
     "data": {
      "text/html": [
       "<div>\n",
       "<style scoped>\n",
       "    .dataframe tbody tr th:only-of-type {\n",
       "        vertical-align: middle;\n",
       "    }\n",
       "\n",
       "    .dataframe tbody tr th {\n",
       "        vertical-align: top;\n",
       "    }\n",
       "\n",
       "    .dataframe thead th {\n",
       "        text-align: right;\n",
       "    }\n",
       "</style>\n",
       "<table border=\"1\" class=\"dataframe\">\n",
       "  <thead>\n",
       "    <tr style=\"text-align: right;\">\n",
       "      <th></th>\n",
       "      <th>Date</th>\n",
       "      <th>Open</th>\n",
       "      <th>High</th>\n",
       "      <th>Low</th>\n",
       "      <th>Close</th>\n",
       "      <th>Adj Close</th>\n",
       "      <th>Volume</th>\n",
       "      <th>Daily_ROI</th>\n",
       "    </tr>\n",
       "  </thead>\n",
       "  <tbody>\n",
       "    <tr>\n",
       "      <th>0</th>\n",
       "      <td>2015-08-07</td>\n",
       "      <td>2.831620</td>\n",
       "      <td>3.536610</td>\n",
       "      <td>2.521120</td>\n",
       "      <td>2.772120</td>\n",
       "      <td>2.772120</td>\n",
       "      <td>164329.0</td>\n",
       "      <td>-2.101271</td>\n",
       "    </tr>\n",
       "    <tr>\n",
       "      <th>1</th>\n",
       "      <td>2015-08-08</td>\n",
       "      <td>2.793760</td>\n",
       "      <td>2.798810</td>\n",
       "      <td>0.714725</td>\n",
       "      <td>0.753325</td>\n",
       "      <td>0.753325</td>\n",
       "      <td>674188.0</td>\n",
       "      <td>-73.035443</td>\n",
       "    </tr>\n",
       "    <tr>\n",
       "      <th>2</th>\n",
       "      <td>2015-08-09</td>\n",
       "      <td>0.706136</td>\n",
       "      <td>0.879810</td>\n",
       "      <td>0.629191</td>\n",
       "      <td>0.701897</td>\n",
       "      <td>0.701897</td>\n",
       "      <td>532170.0</td>\n",
       "      <td>-0.600309</td>\n",
       "    </tr>\n",
       "    <tr>\n",
       "      <th>3</th>\n",
       "      <td>2015-08-10</td>\n",
       "      <td>0.713989</td>\n",
       "      <td>0.729854</td>\n",
       "      <td>0.636546</td>\n",
       "      <td>0.708448</td>\n",
       "      <td>0.708448</td>\n",
       "      <td>405283.0</td>\n",
       "      <td>-0.776062</td>\n",
       "    </tr>\n",
       "    <tr>\n",
       "      <th>4</th>\n",
       "      <td>2015-08-11</td>\n",
       "      <td>0.708087</td>\n",
       "      <td>1.131410</td>\n",
       "      <td>0.663235</td>\n",
       "      <td>1.067860</td>\n",
       "      <td>1.067860</td>\n",
       "      <td>1463100.0</td>\n",
       "      <td>50.809152</td>\n",
       "    </tr>\n",
       "  </tbody>\n",
       "</table>\n",
       "</div>"
      ],
      "text/plain": [
       "        Date      Open      High       Low     Close  Adj Close     Volume  \\\n",
       "0 2015-08-07  2.831620  3.536610  2.521120  2.772120   2.772120   164329.0   \n",
       "1 2015-08-08  2.793760  2.798810  0.714725  0.753325   0.753325   674188.0   \n",
       "2 2015-08-09  0.706136  0.879810  0.629191  0.701897   0.701897   532170.0   \n",
       "3 2015-08-10  0.713989  0.729854  0.636546  0.708448   0.708448   405283.0   \n",
       "4 2015-08-11  0.708087  1.131410  0.663235  1.067860   1.067860  1463100.0   \n",
       "\n",
       "   Daily_ROI  \n",
       "0  -2.101271  \n",
       "1 -73.035443  \n",
       "2  -0.600309  \n",
       "3  -0.776062  \n",
       "4  50.809152  "
      ]
     },
     "execution_count": 32,
     "metadata": {},
     "output_type": "execute_result"
    }
   ],
   "source": [
    "eth.reset_index(inplace=True)\n",
    "eth.head()"
   ]
  },
  {
   "cell_type": "code",
   "execution_count": 33,
   "id": "18dd0cb0",
   "metadata": {
    "execution": {
     "iopub.execute_input": "2021-08-01T11:37:02.485249Z",
     "iopub.status.busy": "2021-08-01T11:37:02.482703Z",
     "iopub.status.idle": "2021-08-01T11:37:02.496565Z",
     "shell.execute_reply": "2021-08-01T11:37:02.497068Z",
     "shell.execute_reply.started": "2021-08-01T10:00:49.326729Z"
    },
    "papermill": {
     "duration": 0.123438,
     "end_time": "2021-08-01T11:37:02.497237",
     "exception": false,
     "start_time": "2021-08-01T11:37:02.373799",
     "status": "completed"
    },
    "tags": []
   },
   "outputs": [],
   "source": [
    "grouped = eth.groupby([eth.Date.dt.year, eth.Date.dt.month])\n",
    "monthly_roi = grouped.last().Close / grouped.first().Open * 100 - 100"
   ]
  },
  {
   "cell_type": "code",
   "execution_count": 34,
   "id": "bd646c1f",
   "metadata": {
    "execution": {
     "iopub.execute_input": "2021-08-01T11:37:02.706783Z",
     "iopub.status.busy": "2021-08-01T11:37:02.706172Z",
     "iopub.status.idle": "2021-08-01T11:37:02.709614Z",
     "shell.execute_reply": "2021-08-01T11:37:02.709102Z",
     "shell.execute_reply.started": "2021-08-01T10:00:50.956017Z"
    },
    "papermill": {
     "duration": 0.109966,
     "end_time": "2021-08-01T11:37:02.709743",
     "exception": false,
     "start_time": "2021-08-01T11:37:02.599777",
     "status": "completed"
    },
    "tags": []
   },
   "outputs": [],
   "source": [
    "monthly_roi.index.names = ['Year', 'Month']"
   ]
  },
  {
   "cell_type": "code",
   "execution_count": 35,
   "id": "1d2028e2",
   "metadata": {
    "execution": {
     "iopub.execute_input": "2021-08-01T11:37:02.921910Z",
     "iopub.status.busy": "2021-08-01T11:37:02.921321Z",
     "iopub.status.idle": "2021-08-01T11:37:02.925946Z",
     "shell.execute_reply": "2021-08-01T11:37:02.925384Z",
     "shell.execute_reply.started": "2021-08-01T10:00:53.155380Z"
    },
    "papermill": {
     "duration": 0.114997,
     "end_time": "2021-08-01T11:37:02.926067",
     "exception": false,
     "start_time": "2021-08-01T11:37:02.811070",
     "status": "completed"
    },
    "tags": []
   },
   "outputs": [
    {
     "data": {
      "text/html": [
       "<div>\n",
       "<style scoped>\n",
       "    .dataframe tbody tr th:only-of-type {\n",
       "        vertical-align: middle;\n",
       "    }\n",
       "\n",
       "    .dataframe tbody tr th {\n",
       "        vertical-align: top;\n",
       "    }\n",
       "\n",
       "    .dataframe thead th {\n",
       "        text-align: right;\n",
       "    }\n",
       "</style>\n",
       "<table border=\"1\" class=\"dataframe\">\n",
       "  <thead>\n",
       "    <tr style=\"text-align: right;\">\n",
       "      <th></th>\n",
       "      <th>Year</th>\n",
       "      <th>Month</th>\n",
       "      <th>0</th>\n",
       "    </tr>\n",
       "  </thead>\n",
       "  <tbody>\n",
       "    <tr>\n",
       "      <th>0</th>\n",
       "      <td>2015</td>\n",
       "      <td>8</td>\n",
       "      <td>-52.033112</td>\n",
       "    </tr>\n",
       "    <tr>\n",
       "      <th>1</th>\n",
       "      <td>2015</td>\n",
       "      <td>9</td>\n",
       "      <td>-45.426308</td>\n",
       "    </tr>\n",
       "    <tr>\n",
       "      <th>2</th>\n",
       "      <td>2015</td>\n",
       "      <td>10</td>\n",
       "      <td>24.828852</td>\n",
       "    </tr>\n",
       "    <tr>\n",
       "      <th>3</th>\n",
       "      <td>2015</td>\n",
       "      <td>11</td>\n",
       "      <td>-5.183054</td>\n",
       "    </tr>\n",
       "    <tr>\n",
       "      <th>4</th>\n",
       "      <td>2015</td>\n",
       "      <td>12</td>\n",
       "      <td>6.287714</td>\n",
       "    </tr>\n",
       "  </tbody>\n",
       "</table>\n",
       "</div>"
      ],
      "text/plain": [
       "   Year  Month          0\n",
       "0  2015      8 -52.033112\n",
       "1  2015      9 -45.426308\n",
       "2  2015     10  24.828852\n",
       "3  2015     11  -5.183054\n",
       "4  2015     12   6.287714"
      ]
     },
     "execution_count": 35,
     "metadata": {},
     "output_type": "execute_result"
    }
   ],
   "source": [
    "monthly_roi = monthly_roi.to_frame()\n",
    "monthly_roi.reset_index(inplace=True)\n",
    "monthly_roi.head()"
   ]
  },
  {
   "cell_type": "code",
   "execution_count": 36,
   "id": "52b70eea",
   "metadata": {
    "execution": {
     "iopub.execute_input": "2021-08-01T11:37:03.138024Z",
     "iopub.status.busy": "2021-08-01T11:37:03.134860Z",
     "iopub.status.idle": "2021-08-01T11:37:03.141887Z",
     "shell.execute_reply": "2021-08-01T11:37:03.142361Z",
     "shell.execute_reply.started": "2021-08-01T10:00:54.974633Z"
    },
    "papermill": {
     "duration": 0.11484,
     "end_time": "2021-08-01T11:37:03.142533",
     "exception": false,
     "start_time": "2021-08-01T11:37:03.027693",
     "status": "completed"
    },
    "tags": []
   },
   "outputs": [
    {
     "data": {
      "text/html": [
       "<div>\n",
       "<style scoped>\n",
       "    .dataframe tbody tr th:only-of-type {\n",
       "        vertical-align: middle;\n",
       "    }\n",
       "\n",
       "    .dataframe tbody tr th {\n",
       "        vertical-align: top;\n",
       "    }\n",
       "\n",
       "    .dataframe thead th {\n",
       "        text-align: right;\n",
       "    }\n",
       "</style>\n",
       "<table border=\"1\" class=\"dataframe\">\n",
       "  <thead>\n",
       "    <tr style=\"text-align: right;\">\n",
       "      <th></th>\n",
       "      <th>Year</th>\n",
       "      <th>Month</th>\n",
       "      <th>Monthly_ROI</th>\n",
       "    </tr>\n",
       "  </thead>\n",
       "  <tbody>\n",
       "    <tr>\n",
       "      <th>0</th>\n",
       "      <td>2015</td>\n",
       "      <td>8</td>\n",
       "      <td>-52.033112</td>\n",
       "    </tr>\n",
       "    <tr>\n",
       "      <th>1</th>\n",
       "      <td>2015</td>\n",
       "      <td>9</td>\n",
       "      <td>-45.426308</td>\n",
       "    </tr>\n",
       "    <tr>\n",
       "      <th>2</th>\n",
       "      <td>2015</td>\n",
       "      <td>10</td>\n",
       "      <td>24.828852</td>\n",
       "    </tr>\n",
       "    <tr>\n",
       "      <th>3</th>\n",
       "      <td>2015</td>\n",
       "      <td>11</td>\n",
       "      <td>-5.183054</td>\n",
       "    </tr>\n",
       "    <tr>\n",
       "      <th>4</th>\n",
       "      <td>2015</td>\n",
       "      <td>12</td>\n",
       "      <td>6.287714</td>\n",
       "    </tr>\n",
       "  </tbody>\n",
       "</table>\n",
       "</div>"
      ],
      "text/plain": [
       "   Year  Month  Monthly_ROI\n",
       "0  2015      8   -52.033112\n",
       "1  2015      9   -45.426308\n",
       "2  2015     10    24.828852\n",
       "3  2015     11    -5.183054\n",
       "4  2015     12     6.287714"
      ]
     },
     "execution_count": 36,
     "metadata": {},
     "output_type": "execute_result"
    }
   ],
   "source": [
    "monthly_roi.columns = ['Year', 'Month', 'Monthly_ROI']\n",
    "monthly_roi.head()"
   ]
  },
  {
   "cell_type": "markdown",
   "id": "f40735ff",
   "metadata": {
    "papermill": {
     "duration": 0.10612,
     "end_time": "2021-08-01T11:37:03.351689",
     "exception": false,
     "start_time": "2021-08-01T11:37:03.245569",
     "status": "completed"
    },
    "tags": []
   },
   "source": [
    "## Plotting monthly ROI"
   ]
  },
  {
   "cell_type": "code",
   "execution_count": 37,
   "id": "cdf9a61d",
   "metadata": {
    "execution": {
     "iopub.execute_input": "2021-08-01T11:37:03.684814Z",
     "iopub.status.busy": "2021-08-01T11:37:03.599749Z",
     "iopub.status.idle": "2021-08-01T11:37:04.404882Z",
     "shell.execute_reply": "2021-08-01T11:37:04.404295Z",
     "shell.execute_reply.started": "2021-08-01T10:01:48.412616Z"
    },
    "papermill": {
     "duration": 0.938538,
     "end_time": "2021-08-01T11:37:04.405028",
     "exception": false,
     "start_time": "2021-08-01T11:37:03.466490",
     "status": "completed"
    },
    "tags": []
   },
   "outputs": [
    {
     "data": {
      "image/png": "[encoded data removed]",
      "text/plain": [
       "<Figure size 640x480 with 1 Axes>"
      ]
     },
     "metadata": {},
     "output_type": "display_data"
    }
   ],
   "source": [
    "ax = sns.barplot(x='Month', y='Monthly_ROI', hue='Year', data=monthly_roi, palette=['#086623','#3F704D','#00A86B','#29AB87','#01796F','#4CBB17','#043927'])\n",
    "ax.patch.set_facecolor('white')\n",
    "ax.patch.set_alpha(1.0)\n",
    "ax = plt.title('ETH Monthly Return of Investment', fontsize=24, loc='center', fontweight='heavy', pad=32)"
   ]
  },
  {
   "cell_type": "markdown",
   "id": "fb4b1b98",
   "metadata": {
    "papermill": {
     "duration": 0.104242,
     "end_time": "2021-08-01T11:37:04.613099",
     "exception": false,
     "start_time": "2021-08-01T11:37:04.508857",
     "status": "completed"
    },
    "tags": []
   },
   "source": [
    "### 5 Most Profitable Months to Invest"
   ]
  },
  {
   "cell_type": "code",
   "execution_count": 38,
   "id": "02f7ede9",
   "metadata": {
    "execution": {
     "iopub.execute_input": "2021-08-01T11:37:04.827114Z",
     "iopub.status.busy": "2021-08-01T11:37:04.822324Z",
     "iopub.status.idle": "2021-08-01T11:37:04.831594Z",
     "shell.execute_reply": "2021-08-01T11:37:04.831224Z",
     "shell.execute_reply.started": "2021-08-01T10:02:01.562117Z"
    },
    "papermill": {
     "duration": 0.115902,
     "end_time": "2021-08-01T11:37:04.831700",
     "exception": false,
     "start_time": "2021-08-01T11:37:04.715798",
     "status": "completed"
    },
    "tags": []
   },
   "outputs": [
    {
     "data": {
      "text/html": [
       "<div>\n",
       "<style scoped>\n",
       "    .dataframe tbody tr th:only-of-type {\n",
       "        vertical-align: middle;\n",
       "    }\n",
       "\n",
       "    .dataframe tbody tr th {\n",
       "        vertical-align: top;\n",
       "    }\n",
       "\n",
       "    .dataframe thead th {\n",
       "        text-align: right;\n",
       "    }\n",
       "</style>\n",
       "<table border=\"1\" class=\"dataframe\">\n",
       "  <thead>\n",
       "    <tr style=\"text-align: right;\">\n",
       "      <th></th>\n",
       "      <th>Year</th>\n",
       "      <th>Month</th>\n",
       "      <th>Monthly_ROI</th>\n",
       "    </tr>\n",
       "  </thead>\n",
       "  <tbody>\n",
       "    <tr>\n",
       "      <th>19</th>\n",
       "      <td>2017</td>\n",
       "      <td>3</td>\n",
       "      <td>215.748523</td>\n",
       "    </tr>\n",
       "    <tr>\n",
       "      <th>21</th>\n",
       "      <td>2017</td>\n",
       "      <td>5</td>\n",
       "      <td>190.802253</td>\n",
       "    </tr>\n",
       "    <tr>\n",
       "      <th>6</th>\n",
       "      <td>2016</td>\n",
       "      <td>2</td>\n",
       "      <td>173.182624</td>\n",
       "    </tr>\n",
       "    <tr>\n",
       "      <th>5</th>\n",
       "      <td>2016</td>\n",
       "      <td>1</td>\n",
       "      <td>146.975513</td>\n",
       "    </tr>\n",
       "    <tr>\n",
       "      <th>24</th>\n",
       "      <td>2017</td>\n",
       "      <td>8</td>\n",
       "      <td>87.134558</td>\n",
       "    </tr>\n",
       "  </tbody>\n",
       "</table>\n",
       "</div>"
      ],
      "text/plain": [
       "    Year  Month  Monthly_ROI\n",
       "19  2017      3   215.748523\n",
       "21  2017      5   190.802253\n",
       "6   2016      2   173.182624\n",
       "5   2016      1   146.975513\n",
       "24  2017      8    87.134558"
      ]
     },
     "execution_count": 38,
     "metadata": {},
     "output_type": "execute_result"
    }
   ],
   "source": [
    "monthly_roi.sort_values('Monthly_ROI', ascending=False).head(5)"
   ]
  },
  {
   "cell_type": "markdown",
   "id": "1636d12e",
   "metadata": {
    "papermill": {
     "duration": 0.070874,
     "end_time": "2021-08-01T11:37:04.972816",
     "exception": false,
     "start_time": "2021-08-01T11:37:04.901942",
     "status": "completed"
    },
    "tags": []
   },
   "source": [
    "### 5 Least Profitable Months to Invest"
   ]
  },
  {
   "cell_type": "code",
   "execution_count": 39,
   "id": "007a2260",
   "metadata": {
    "execution": {
     "iopub.execute_input": "2021-08-01T11:37:05.116941Z",
     "iopub.status.busy": "2021-08-01T11:37:05.116469Z",
     "iopub.status.idle": "2021-08-01T11:37:05.123957Z",
     "shell.execute_reply": "2021-08-01T11:37:05.124380Z",
     "shell.execute_reply.started": "2021-08-01T10:02:04.208138Z"
    },
    "papermill": {
     "duration": 0.080903,
     "end_time": "2021-08-01T11:37:05.124527",
     "exception": false,
     "start_time": "2021-08-01T11:37:05.043624",
     "status": "completed"
    },
    "tags": []
   },
   "outputs": [
    {
     "data": {
      "text/html": [
       "<div>\n",
       "<style scoped>\n",
       "    .dataframe tbody tr th:only-of-type {\n",
       "        vertical-align: middle;\n",
       "    }\n",
       "\n",
       "    .dataframe tbody tr th {\n",
       "        vertical-align: top;\n",
       "    }\n",
       "\n",
       "    .dataframe thead th {\n",
       "        text-align: right;\n",
       "    }\n",
       "</style>\n",
       "<table border=\"1\" class=\"dataframe\">\n",
       "  <thead>\n",
       "    <tr style=\"text-align: right;\">\n",
       "      <th></th>\n",
       "      <th>Year</th>\n",
       "      <th>Month</th>\n",
       "      <th>Monthly_ROI</th>\n",
       "    </tr>\n",
       "  </thead>\n",
       "  <tbody>\n",
       "    <tr>\n",
       "      <th>31</th>\n",
       "      <td>2018</td>\n",
       "      <td>3</td>\n",
       "      <td>-53.685580</td>\n",
       "    </tr>\n",
       "    <tr>\n",
       "      <th>0</th>\n",
       "      <td>2015</td>\n",
       "      <td>8</td>\n",
       "      <td>-52.033112</td>\n",
       "    </tr>\n",
       "    <tr>\n",
       "      <th>1</th>\n",
       "      <td>2015</td>\n",
       "      <td>9</td>\n",
       "      <td>-45.426308</td>\n",
       "    </tr>\n",
       "    <tr>\n",
       "      <th>39</th>\n",
       "      <td>2018</td>\n",
       "      <td>11</td>\n",
       "      <td>-42.708751</td>\n",
       "    </tr>\n",
       "    <tr>\n",
       "      <th>55</th>\n",
       "      <td>2020</td>\n",
       "      <td>3</td>\n",
       "      <td>-39.207311</td>\n",
       "    </tr>\n",
       "  </tbody>\n",
       "</table>\n",
       "</div>"
      ],
      "text/plain": [
       "    Year  Month  Monthly_ROI\n",
       "31  2018      3   -53.685580\n",
       "0   2015      8   -52.033112\n",
       "1   2015      9   -45.426308\n",
       "39  2018     11   -42.708751\n",
       "55  2020      3   -39.207311"
      ]
     },
     "execution_count": 39,
     "metadata": {},
     "output_type": "execute_result"
    }
   ],
   "source": [
    "monthly_roi.sort_values('Monthly_ROI').head(5)"
   ]
  },
  {
   "cell_type": "markdown",
   "id": "1cc3e47b",
   "metadata": {
    "papermill": {
     "duration": 0.072862,
     "end_time": "2021-08-01T11:37:05.271325",
     "exception": false,
     "start_time": "2021-08-01T11:37:05.198463",
     "status": "completed"
    },
    "tags": []
   },
   "source": [
    "## Yearly ROI"
   ]
  },
  {
   "cell_type": "code",
   "execution_count": 40,
   "id": "723bd9a4",
   "metadata": {
    "execution": {
     "iopub.execute_input": "2021-08-01T11:37:05.417963Z",
     "iopub.status.busy": "2021-08-01T11:37:05.417453Z",
     "iopub.status.idle": "2021-08-01T11:37:05.427659Z",
     "shell.execute_reply": "2021-08-01T11:37:05.428065Z",
     "shell.execute_reply.started": "2021-08-01T10:02:07.458403Z"
    },
    "papermill": {
     "duration": 0.084817,
     "end_time": "2021-08-01T11:37:05.428211",
     "exception": false,
     "start_time": "2021-08-01T11:37:05.343394",
     "status": "completed"
    },
    "tags": []
   },
   "outputs": [],
   "source": [
    "yearly_roi = eth.groupby(eth.Date.dt.year).last().Close / eth.groupby(eth.Date.dt.year).first().Open * 100 - 100"
   ]
  },
  {
   "cell_type": "markdown",
   "id": "18162d5d",
   "metadata": {
    "papermill": {
     "duration": 0.072425,
     "end_time": "2021-08-01T11:37:05.572225",
     "exception": false,
     "start_time": "2021-08-01T11:37:05.499800",
     "status": "completed"
    },
    "tags": []
   },
   "source": [
    "### 3 Most Profitable Years to Invest"
   ]
  },
  {
   "cell_type": "code",
   "execution_count": 41,
   "id": "17f809b2",
   "metadata": {
    "execution": {
     "iopub.execute_input": "2021-08-01T11:37:05.718098Z",
     "iopub.status.busy": "2021-08-01T11:37:05.717641Z",
     "iopub.status.idle": "2021-08-01T11:37:05.723483Z",
     "shell.execute_reply": "2021-08-01T11:37:05.723896Z",
     "shell.execute_reply.started": "2021-08-01T10:02:10.617661Z"
    },
    "papermill": {
     "duration": 0.080294,
     "end_time": "2021-08-01T11:37:05.724040",
     "exception": false,
     "start_time": "2021-08-01T11:37:05.643746",
     "status": "completed"
    },
    "tags": []
   },
   "outputs": [
    {
     "data": {
      "text/plain": [
       "Date\n",
       "2017    9380.125064\n",
       "2016     753.485871\n",
       "2020     469.158099\n",
       "dtype: float64"
      ]
     },
     "execution_count": 41,
     "metadata": {},
     "output_type": "execute_result"
    }
   ],
   "source": [
    "yearly_roi.sort_values(ascending=False).head(3)"
   ]
  },
  {
   "cell_type": "markdown",
   "id": "b14199c6",
   "metadata": {
    "papermill": {
     "duration": 0.110876,
     "end_time": "2021-08-01T11:37:05.906220",
     "exception": false,
     "start_time": "2021-08-01T11:37:05.795344",
     "status": "completed"
    },
    "tags": []
   },
   "source": [
    "### 3 Least Profitable Years to Invest"
   ]
  },
  {
   "cell_type": "code",
   "execution_count": 42,
   "id": "1cb4e50e",
   "metadata": {
    "execution": {
     "iopub.execute_input": "2021-08-01T11:37:06.050880Z",
     "iopub.status.busy": "2021-08-01T11:37:06.050459Z",
     "iopub.status.idle": "2021-08-01T11:37:06.058337Z",
     "shell.execute_reply": "2021-08-01T11:37:06.057803Z",
     "shell.execute_reply.started": "2021-08-01T10:02:13.416915Z"
    },
    "papermill": {
     "duration": 0.080774,
     "end_time": "2021-08-01T11:37:06.058465",
     "exception": false,
     "start_time": "2021-08-01T11:37:05.977691",
     "status": "completed"
    },
    "tags": []
   },
   "outputs": [
    {
     "data": {
      "text/plain": [
       "Date\n",
       "2018   -82.353024\n",
       "2015   -67.031523\n",
       "2019    -2.853657\n",
       "dtype: float64"
      ]
     },
     "execution_count": 42,
     "metadata": {},
     "output_type": "execute_result"
    }
   ],
   "source": [
    "yearly_roi.sort_values().head(3)"
   ]
  },
  {
   "cell_type": "markdown",
   "id": "81d04731",
   "metadata": {
    "papermill": {
     "duration": 0.073818,
     "end_time": "2021-08-01T11:37:06.205375",
     "exception": false,
     "start_time": "2021-08-01T11:37:06.131557",
     "status": "completed"
    },
    "tags": []
   },
   "source": [
    "## Plotting yearly ROI\n",
    "\n",
    "- keep in mind that it counts if you bought it at the first day in the year and sold on the last day of the year"
   ]
  },
  {
   "cell_type": "code",
   "execution_count": 43,
   "id": "ed3db415",
   "metadata": {
    "execution": {
     "iopub.execute_input": "2021-08-01T11:37:06.384719Z",
     "iopub.status.busy": "2021-08-01T11:37:06.376276Z",
     "iopub.status.idle": "2021-08-01T11:37:06.506851Z",
     "shell.execute_reply": "2021-08-01T11:37:06.507214Z",
     "shell.execute_reply.started": "2021-08-01T10:02:48.259455Z"
    },
    "papermill": {
     "duration": 0.227515,
     "end_time": "2021-08-01T11:37:06.507341",
     "exception": false,
     "start_time": "2021-08-01T11:37:06.279826",
     "status": "completed"
    },
    "tags": []
   },
   "outputs": [
    {
     "data": {
      "image/png": "[encoded data removed]",
      "text/plain": [
       "<Figure size 640x480 with 1 Axes>"
      ]
     },
     "metadata": {},
     "output_type": "display_data"
    }
   ],
   "source": [
    "ax = sns.barplot(x=yearly_roi.index, y=yearly_roi.values,palette=['#086623','#3F704D','#00A86B','#29AB87','#01796F','#4CBB17','#043927'])\n",
    "ax.patch.set_facecolor('white')\n",
    "ax.patch.set_alpha(1.0)\n",
    "ax = plt.title('ETH Yearly Return of Investment', fontsize=24, loc='center', fontweight='heavy', pad=32)"
   ]
  },
  {
   "cell_type": "markdown",
   "id": "60441c70",
   "metadata": {
    "papermill": {
     "duration": 0.072273,
     "end_time": "2021-08-01T11:37:06.652591",
     "exception": false,
     "start_time": "2021-08-01T11:37:06.580318",
     "status": "completed"
    },
    "tags": []
   },
   "source": [
    "The year 2017 had a huge bubble in crypro currencies space. We can see from graph above. Lets exclude it from graph to get a bigger picture at other years"
   ]
  },
  {
   "cell_type": "code",
   "execution_count": 44,
   "id": "d0e85364",
   "metadata": {
    "execution": {
     "iopub.execute_input": "2021-08-01T11:37:06.822387Z",
     "iopub.status.busy": "2021-08-01T11:37:06.807033Z",
     "iopub.status.idle": "2021-08-01T11:37:06.951845Z",
     "shell.execute_reply": "2021-08-01T11:37:06.952291Z",
     "shell.execute_reply.started": "2021-08-01T10:03:44.072402Z"
    },
    "papermill": {
     "duration": 0.226881,
     "end_time": "2021-08-01T11:37:06.952422",
     "exception": false,
     "start_time": "2021-08-01T11:37:06.725541",
     "status": "completed"
    },
    "tags": []
   },
   "outputs": [
    {
     "data": {
      "image/png": "[encoded data removed]",
      "text/plain": [
       "<Figure size 640x480 with 1 Axes>"
      ]
     },
     "metadata": {},
     "output_type": "display_data"
    }
   ],
   "source": [
    "excluded_2017 = yearly_roi[yearly_roi.index != 2017]\n",
    "ax = sns.barplot(x=excluded_2017.index, y=excluded_2017.values, palette=['#086623','#3F704D', '#29AB87','#01796F','#4CBB17','#043927'])\n",
    "ax.patch.set_facecolor('white')\n",
    "ax.patch.set_alpha(1.0)\n",
    "ax = plt.title('ETH Yearly Return of Investment [2017 Excluded]', fontsize=24, loc='center', fontweight='heavy', pad=32)"
   ]
  },
  {
   "cell_type": "markdown",
   "id": "b718a737",
   "metadata": {
    "papermill": {
     "duration": 0.07494,
     "end_time": "2021-08-01T11:37:07.102583",
     "exception": false,
     "start_time": "2021-08-01T11:37:07.027643",
     "status": "completed"
    },
    "tags": []
   },
   "source": [
    "## Keep in Mind"
   ]
  },
  {
   "cell_type": "markdown",
   "id": "914ec3c1",
   "metadata": {
    "papermill": {
     "duration": 0.074887,
     "end_time": "2021-08-01T11:37:07.251384",
     "exception": false,
     "start_time": "2021-08-01T11:37:07.176497",
     "status": "completed"
    },
    "tags": []
   },
   "source": [
    "ROI calculations was based on the assumption that you bought it when market opened and sold right when the market was closing. For monthly and yealy ROI assumptions were made that ETH was bought at the start of the Month/Year and sold at the end."
   ]
  },
  {
   "cell_type": "markdown",
   "id": "3f8114f1",
   "metadata": {
    "papermill": {
     "duration": 0.073877,
     "end_time": "2021-08-01T11:37:07.399494",
     "exception": false,
     "start_time": "2021-08-01T11:37:07.325617",
     "status": "completed"
    },
    "tags": []
   },
   "source": [
    "# Correlation"
   ]
  },
  {
   "cell_type": "code",
   "execution_count": 45,
   "id": "dac8098a",
   "metadata": {
    "execution": {
     "iopub.execute_input": "2021-08-01T11:37:07.553141Z",
     "iopub.status.busy": "2021-08-01T11:37:07.552447Z",
     "iopub.status.idle": "2021-08-01T11:37:07.564685Z",
     "shell.execute_reply": "2021-08-01T11:37:07.564106Z",
     "shell.execute_reply.started": "2021-08-01T10:16:15.830948Z"
    },
    "papermill": {
     "duration": 0.091191,
     "end_time": "2021-08-01T11:37:07.564816",
     "exception": false,
     "start_time": "2021-08-01T11:37:07.473625",
     "status": "completed"
    },
    "tags": []
   },
   "outputs": [
    {
     "data": {
      "text/html": [
       "<div>\n",
       "<style scoped>\n",
       "    .dataframe tbody tr th:only-of-type {\n",
       "        vertical-align: middle;\n",
       "    }\n",
       "\n",
       "    .dataframe tbody tr th {\n",
       "        vertical-align: top;\n",
       "    }\n",
       "\n",
       "    .dataframe thead th {\n",
       "        text-align: right;\n",
       "    }\n",
       "</style>\n",
       "<table border=\"1\" class=\"dataframe\">\n",
       "  <thead>\n",
       "    <tr style=\"text-align: right;\">\n",
       "      <th></th>\n",
       "      <th>Open</th>\n",
       "      <th>High</th>\n",
       "      <th>Low</th>\n",
       "      <th>Close</th>\n",
       "      <th>Volume</th>\n",
       "    </tr>\n",
       "  </thead>\n",
       "  <tbody>\n",
       "    <tr>\n",
       "      <th>Open</th>\n",
       "      <td>1.000000</td>\n",
       "      <td>0.998889</td>\n",
       "      <td>0.997191</td>\n",
       "      <td>0.996843</td>\n",
       "      <td>0.767281</td>\n",
       "    </tr>\n",
       "    <tr>\n",
       "      <th>High</th>\n",
       "      <td>0.998889</td>\n",
       "      <td>1.000000</td>\n",
       "      <td>0.997174</td>\n",
       "      <td>0.998521</td>\n",
       "      <td>0.771315</td>\n",
       "    </tr>\n",
       "    <tr>\n",
       "      <th>Low</th>\n",
       "      <td>0.997191</td>\n",
       "      <td>0.997174</td>\n",
       "      <td>1.000000</td>\n",
       "      <td>0.998584</td>\n",
       "      <td>0.756480</td>\n",
       "    </tr>\n",
       "    <tr>\n",
       "      <th>Close</th>\n",
       "      <td>0.996843</td>\n",
       "      <td>0.998521</td>\n",
       "      <td>0.998584</td>\n",
       "      <td>1.000000</td>\n",
       "      <td>0.765051</td>\n",
       "    </tr>\n",
       "    <tr>\n",
       "      <th>Volume</th>\n",
       "      <td>0.767281</td>\n",
       "      <td>0.771315</td>\n",
       "      <td>0.756480</td>\n",
       "      <td>0.765051</td>\n",
       "      <td>1.000000</td>\n",
       "    </tr>\n",
       "  </tbody>\n",
       "</table>\n",
       "</div>"
      ],
      "text/plain": [
       "            Open      High       Low     Close    Volume\n",
       "Open    1.000000  0.998889  0.997191  0.996843  0.767281\n",
       "High    0.998889  1.000000  0.997174  0.998521  0.771315\n",
       "Low     0.997191  0.997174  1.000000  0.998584  0.756480\n",
       "Close   0.996843  0.998521  0.998584  1.000000  0.765051\n",
       "Volume  0.767281  0.771315  0.756480  0.765051  1.000000"
      ]
     },
     "execution_count": 45,
     "metadata": {},
     "output_type": "execute_result"
    }
   ],
   "source": [
    "eth_corr = eth.loc[:,['Open','High', 'Low', 'Close', 'Volume']].corr()\n",
    "eth_corr"
   ]
  },
  {
   "cell_type": "code",
   "execution_count": 46,
   "id": "6c11ae61",
   "metadata": {
    "execution": {
     "iopub.execute_input": "2021-08-01T11:37:07.787405Z",
     "iopub.status.busy": "2021-08-01T11:37:07.786766Z",
     "iopub.status.idle": "2021-08-01T11:37:07.790652Z",
     "shell.execute_reply": "2021-08-01T11:37:07.789363Z",
     "shell.execute_reply.started": "2021-08-01T10:23:58.647655Z"
    },
    "papermill": {
     "duration": 0.11769,
     "end_time": "2021-08-01T11:37:07.790856",
     "exception": false,
     "start_time": "2021-08-01T11:37:07.673166",
     "status": "completed"
    },
    "tags": []
   },
   "outputs": [],
   "source": [
    "sns.reset_orig()"
   ]
  },
  {
   "cell_type": "code",
   "execution_count": 47,
   "id": "69cd75ec",
   "metadata": {
    "execution": {
     "iopub.execute_input": "2021-08-01T11:37:08.020716Z",
     "iopub.status.busy": "2021-08-01T11:37:08.015514Z",
     "iopub.status.idle": "2021-08-01T11:37:08.223266Z",
     "shell.execute_reply": "2021-08-01T11:37:08.223637Z",
     "shell.execute_reply.started": "2021-08-01T10:24:00.074982Z"
    },
    "papermill": {
     "duration": 0.323412,
     "end_time": "2021-08-01T11:37:08.223786",
     "exception": false,
     "start_time": "2021-08-01T11:37:07.900374",
     "status": "completed"
    },
    "tags": []
   },
   "outputs": [
    {
     "data": {
      "image/png": "[encoded data removed]",
      "text/plain": [
       "<Figure size 432x288 with 2 Axes>"
      ]
     },
     "metadata": {
      "needs_background": "light"
     },
     "output_type": "display_data"
    }
   ],
   "source": [
    "ax = sns.heatmap(eth_corr, annot=True, cmap='Greens', fmt=\".2f\")"
   ]
  },
  {
   "cell_type": "markdown",
   "id": "b8d9dee2",
   "metadata": {
    "papermill": {
     "duration": 0.076252,
     "end_time": "2021-08-01T11:37:08.378397",
     "exception": false,
     "start_time": "2021-08-01T11:37:08.302145",
     "status": "completed"
    },
    "tags": []
   },
   "source": [
    "# Model Training"
   ]
  },
  {
   "cell_type": "code",
   "execution_count": 48,
   "id": "59e856f0",
   "metadata": {
    "execution": {
     "iopub.execute_input": "2021-08-01T11:37:08.533651Z",
     "iopub.status.busy": "2021-08-01T11:37:08.533188Z",
     "iopub.status.idle": "2021-08-01T11:37:08.539649Z",
     "shell.execute_reply": "2021-08-01T11:37:08.540081Z",
     "shell.execute_reply.started": "2021-08-01T10:28:53.731478Z"
    },
    "papermill": {
     "duration": 0.085801,
     "end_time": "2021-08-01T11:37:08.540220",
     "exception": false,
     "start_time": "2021-08-01T11:37:08.454419",
     "status": "completed"
    },
    "tags": []
   },
   "outputs": [
    {
     "data": {
      "text/plain": [
       "Index(['Date', 'Open', 'High', 'Low', 'Close', 'Volume'], dtype='object')"
      ]
     },
     "execution_count": 48,
     "metadata": {},
     "output_type": "execute_result"
    }
   ],
   "source": [
    "eth.drop(columns=['Adj Close', 'Daily_ROI'], inplace=True)\n",
    "eth.columns"
   ]
  },
  {
   "cell_type": "code",
   "execution_count": 49,
   "id": "63d4351a",
   "metadata": {
    "execution": {
     "iopub.execute_input": "2021-08-01T11:37:08.694855Z",
     "iopub.status.busy": "2021-08-01T11:37:08.694414Z",
     "iopub.status.idle": "2021-08-01T11:37:08.707506Z",
     "shell.execute_reply": "2021-08-01T11:37:08.707846Z",
     "shell.execute_reply.started": "2021-08-01T10:37:12.467355Z"
    },
    "papermill": {
     "duration": 0.091037,
     "end_time": "2021-08-01T11:37:08.708014",
     "exception": false,
     "start_time": "2021-08-01T11:37:08.616977",
     "status": "completed"
    },
    "tags": []
   },
   "outputs": [
    {
     "data": {
      "text/html": [
       "<div>\n",
       "<style scoped>\n",
       "    .dataframe tbody tr th:only-of-type {\n",
       "        vertical-align: middle;\n",
       "    }\n",
       "\n",
       "    .dataframe tbody tr th {\n",
       "        vertical-align: top;\n",
       "    }\n",
       "\n",
       "    .dataframe thead th {\n",
       "        text-align: right;\n",
       "    }\n",
       "</style>\n",
       "<table border=\"1\" class=\"dataframe\">\n",
       "  <thead>\n",
       "    <tr style=\"text-align: right;\">\n",
       "      <th></th>\n",
       "      <th>Open</th>\n",
       "      <th>High</th>\n",
       "      <th>Low</th>\n",
       "      <th>Close</th>\n",
       "      <th>Volume</th>\n",
       "    </tr>\n",
       "  </thead>\n",
       "  <tbody>\n",
       "    <tr>\n",
       "      <th>0</th>\n",
       "      <td>2.831620</td>\n",
       "      <td>3.536610</td>\n",
       "      <td>2.521120</td>\n",
       "      <td>2.772120</td>\n",
       "      <td>1.643290e+05</td>\n",
       "    </tr>\n",
       "    <tr>\n",
       "      <th>1</th>\n",
       "      <td>2.793760</td>\n",
       "      <td>2.798810</td>\n",
       "      <td>0.714725</td>\n",
       "      <td>0.753325</td>\n",
       "      <td>6.741880e+05</td>\n",
       "    </tr>\n",
       "    <tr>\n",
       "      <th>2</th>\n",
       "      <td>0.706136</td>\n",
       "      <td>0.879810</td>\n",
       "      <td>0.629191</td>\n",
       "      <td>0.701897</td>\n",
       "      <td>5.321700e+05</td>\n",
       "    </tr>\n",
       "    <tr>\n",
       "      <th>3</th>\n",
       "      <td>0.713989</td>\n",
       "      <td>0.729854</td>\n",
       "      <td>0.636546</td>\n",
       "      <td>0.708448</td>\n",
       "      <td>4.052830e+05</td>\n",
       "    </tr>\n",
       "    <tr>\n",
       "      <th>4</th>\n",
       "      <td>0.708087</td>\n",
       "      <td>1.131410</td>\n",
       "      <td>0.663235</td>\n",
       "      <td>1.067860</td>\n",
       "      <td>1.463100e+06</td>\n",
       "    </tr>\n",
       "    <tr>\n",
       "      <th>...</th>\n",
       "      <td>...</td>\n",
       "      <td>...</td>\n",
       "      <td>...</td>\n",
       "      <td>...</td>\n",
       "      <td>...</td>\n",
       "    </tr>\n",
       "    <tr>\n",
       "      <th>2176</th>\n",
       "      <td>1994.822876</td>\n",
       "      <td>2044.116455</td>\n",
       "      <td>1954.297852</td>\n",
       "      <td>2025.202759</td>\n",
       "      <td>1.749548e+10</td>\n",
       "    </tr>\n",
       "    <tr>\n",
       "      <th>2177</th>\n",
       "      <td>2025.105713</td>\n",
       "      <td>2129.441162</td>\n",
       "      <td>2000.436279</td>\n",
       "      <td>2124.776611</td>\n",
       "      <td>1.620039e+10</td>\n",
       "    </tr>\n",
       "    <tr>\n",
       "      <th>2178</th>\n",
       "      <td>2123.961182</td>\n",
       "      <td>2197.649414</td>\n",
       "      <td>2107.323486</td>\n",
       "      <td>2189.218750</td>\n",
       "      <td>1.605745e+10</td>\n",
       "    </tr>\n",
       "    <tr>\n",
       "      <th>2179</th>\n",
       "      <td>2187.145508</td>\n",
       "      <td>2194.438232</td>\n",
       "      <td>2108.829834</td>\n",
       "      <td>2191.373779</td>\n",
       "      <td>1.456648e+10</td>\n",
       "    </tr>\n",
       "    <tr>\n",
       "      <th>2180</th>\n",
       "      <td>2177.329590</td>\n",
       "      <td>2384.400635</td>\n",
       "      <td>2177.329590</td>\n",
       "      <td>2340.090820</td>\n",
       "      <td>2.389353e+10</td>\n",
       "    </tr>\n",
       "  </tbody>\n",
       "</table>\n",
       "<p>2181 rows × 5 columns</p>\n",
       "</div>"
      ],
      "text/plain": [
       "             Open         High          Low        Close        Volume\n",
       "0        2.831620     3.536610     2.521120     2.772120  1.643290e+05\n",
       "1        2.793760     2.798810     0.714725     0.753325  6.741880e+05\n",
       "2        0.706136     0.879810     0.629191     0.701897  5.321700e+05\n",
       "3        0.713989     0.729854     0.636546     0.708448  4.052830e+05\n",
       "4        0.708087     1.131410     0.663235     1.067860  1.463100e+06\n",
       "...           ...          ...          ...          ...           ...\n",
       "2176  1994.822876  2044.116455  1954.297852  2025.202759  1.749548e+10\n",
       "2177  2025.105713  2129.441162  2000.436279  2124.776611  1.620039e+10\n",
       "2178  2123.961182  2197.649414  2107.323486  2189.218750  1.605745e+10\n",
       "2179  2187.145508  2194.438232  2108.829834  2191.373779  1.456648e+10\n",
       "2180  2177.329590  2384.400635  2177.329590  2340.090820  2.389353e+10\n",
       "\n",
       "[2181 rows x 5 columns]"
      ]
     },
     "execution_count": 49,
     "metadata": {},
     "output_type": "execute_result"
    }
   ],
   "source": [
    "eth_sklearn = eth.loc[:,'Open':]\n",
    "eth_sklearn"
   ]
  },
  {
   "cell_type": "code",
   "execution_count": 50,
   "id": "d6f55db0",
   "metadata": {
    "execution": {
     "iopub.execute_input": "2021-08-01T11:37:08.866544Z",
     "iopub.status.busy": "2021-08-01T11:37:08.866076Z",
     "iopub.status.idle": "2021-08-01T11:37:09.350244Z",
     "shell.execute_reply": "2021-08-01T11:37:09.349708Z",
     "shell.execute_reply.started": "2021-08-01T11:03:56.258060Z"
    },
    "papermill": {
     "duration": 0.565583,
     "end_time": "2021-08-01T11:37:09.350355",
     "exception": false,
     "start_time": "2021-08-01T11:37:08.784772",
     "status": "completed"
    },
    "tags": []
   },
   "outputs": [],
   "source": [
    "from sklearn.model_selection import train_test_split\n",
    "\n",
    "from sklearn.linear_model import LinearRegression\n",
    "\n",
    "from sklearn.metrics import mean_squared_error, r2_score"
   ]
  },
  {
   "cell_type": "markdown",
   "id": "ef4b93f8",
   "metadata": {
    "papermill": {
     "duration": 0.079461,
     "end_time": "2021-08-01T11:37:09.507353",
     "exception": false,
     "start_time": "2021-08-01T11:37:09.427892",
     "status": "completed"
    },
    "tags": []
   },
   "source": [
    "## LinearRegression (Without any optimizations)"
   ]
  },
  {
   "cell_type": "code",
   "execution_count": 51,
   "id": "95921570",
   "metadata": {
    "execution": {
     "iopub.execute_input": "2021-08-01T11:37:09.668456Z",
     "iopub.status.busy": "2021-08-01T11:37:09.667763Z",
     "iopub.status.idle": "2021-08-01T11:37:09.675812Z",
     "shell.execute_reply": "2021-08-01T11:37:09.675193Z",
     "shell.execute_reply.started": "2021-08-01T10:42:35.447596Z"
    },
    "papermill": {
     "duration": 0.092155,
     "end_time": "2021-08-01T11:37:09.675962",
     "exception": false,
     "start_time": "2021-08-01T11:37:09.583807",
     "status": "completed"
    },
    "tags": []
   },
   "outputs": [
    {
     "data": {
      "text/plain": [
       "((1461, 4), (720, 4), (1461,), (720,))"
      ]
     },
     "execution_count": 51,
     "metadata": {},
     "output_type": "execute_result"
    }
   ],
   "source": [
    "X_1, y_1 = eth_sklearn.drop(columns=['High']), eth_sklearn.High\n",
    "\n",
    "xtrain, xtest, ytrain, ytest = train_test_split(X_1, y_1, test_size=0.33, random_state=42)\n",
    "\n",
    "xtrain.shape, xtest.shape, ytrain.shape, ytest.shape"
   ]
  },
  {
   "cell_type": "code",
   "execution_count": 52,
   "id": "1f160a70",
   "metadata": {
    "execution": {
     "iopub.execute_input": "2021-08-01T11:37:09.905967Z",
     "iopub.status.busy": "2021-08-01T11:37:09.905263Z",
     "iopub.status.idle": "2021-08-01T11:37:10.096048Z",
     "shell.execute_reply": "2021-08-01T11:37:10.095294Z",
     "shell.execute_reply.started": "2021-08-01T10:49:09.362364Z"
    },
    "papermill": {
     "duration": 0.30841,
     "end_time": "2021-08-01T11:37:10.096196",
     "exception": false,
     "start_time": "2021-08-01T11:37:09.787786",
     "status": "completed"
    },
    "tags": []
   },
   "outputs": [
    {
     "name": "stdout",
     "output_type": "stream",
     "text": [
      "RMSE on train data: 14.499161634874854, R^2: 0.9994814871760181\n",
      "RMSE on test data: 19.843934687514007, R^2: 0.9991076716908969\n"
     ]
    }
   ],
   "source": [
    "lr = LinearRegression()\n",
    "lr.fit(xtrain, ytrain)\n",
    "\n",
    "predicted_train = lr.predict(xtrain)\n",
    "predicted_test = lr.predict(xtest)\n",
    "\n",
    "print(f\"RMSE on train data: {mean_squared_error(ytrain, predicted_train)**(0.5)}, R^2: {r2_score(ytrain, predicted_train)}\")\n",
    "print(f\"RMSE on test data: {mean_squared_error(ytest, predicted_test)**(0.5)}, R^2: {r2_score(ytest, predicted_test)}\")"
   ]
  },
  {
   "cell_type": "code",
   "execution_count": 53,
   "id": "dc0cd2e8",
   "metadata": {
    "execution": {
     "iopub.execute_input": "2021-08-01T11:37:10.305949Z",
     "iopub.status.busy": "2021-08-01T11:37:10.305299Z",
     "iopub.status.idle": "2021-08-01T11:37:10.310316Z",
     "shell.execute_reply": "2021-08-01T11:37:10.310729Z",
     "shell.execute_reply.started": "2021-08-01T10:52:56.929710Z"
    },
    "papermill": {
     "duration": 0.103107,
     "end_time": "2021-08-01T11:37:10.310881",
     "exception": false,
     "start_time": "2021-08-01T11:37:10.207774",
     "status": "completed"
    },
    "tags": []
   },
   "outputs": [
    {
     "data": {
      "text/plain": [
       "array([2638.09676962])"
      ]
     },
     "execution_count": 53,
     "metadata": {},
     "output_type": "execute_result"
    }
   ],
   "source": [
    "lr.predict([[2530.94, 2515.26, 2594.81, 853190]]) #Current high price was 2636.21"
   ]
  },
  {
   "cell_type": "code",
   "execution_count": 54,
   "id": "4b9c5b9a",
   "metadata": {
    "execution": {
     "iopub.execute_input": "2021-08-01T11:37:10.472650Z",
     "iopub.status.busy": "2021-08-01T11:37:10.472019Z",
     "iopub.status.idle": "2021-08-01T11:37:10.475762Z",
     "shell.execute_reply": "2021-08-01T11:37:10.475169Z",
     "shell.execute_reply.started": "2021-08-01T10:54:44.573104Z"
    },
    "papermill": {
     "duration": 0.087271,
     "end_time": "2021-08-01T11:37:10.475903",
     "exception": false,
     "start_time": "2021-08-01T11:37:10.388632",
     "status": "completed"
    },
    "tags": []
   },
   "outputs": [
    {
     "data": {
      "text/plain": [
       "array([2581.44626366])"
      ]
     },
     "execution_count": 54,
     "metadata": {},
     "output_type": "execute_result"
    }
   ],
   "source": [
    "lr.predict([[2461.08,2421.70,2532.19,507080]]) # Jul 31 high price was 2551.68"
   ]
  },
  {
   "cell_type": "code",
   "execution_count": 55,
   "id": "3a194da5",
   "metadata": {
    "execution": {
     "iopub.execute_input": "2021-08-01T11:37:10.705277Z",
     "iopub.status.busy": "2021-08-01T11:37:10.704451Z",
     "iopub.status.idle": "2021-08-01T11:37:10.709520Z",
     "shell.execute_reply": "2021-08-01T11:37:10.708897Z",
     "shell.execute_reply.started": "2021-08-01T10:57:46.563184Z"
    },
    "papermill": {
     "duration": 0.122133,
     "end_time": "2021-08-01T11:37:10.709643",
     "exception": false,
     "start_time": "2021-08-01T11:37:10.587510",
     "status": "completed"
    },
    "tags": []
   },
   "outputs": [
    {
     "data": {
      "text/plain": [
       "array([2514.21307343])"
      ]
     },
     "execution_count": 55,
     "metadata": {},
     "output_type": "execute_result"
    }
   ],
   "source": [
    "lr.predict([[2380.59,2320.80,2460.95,1003000]]) # Jul 30 high price was 2467.40"
   ]
  },
  {
   "cell_type": "markdown",
   "id": "53d3fc22",
   "metadata": {
    "papermill": {
     "duration": 0.078981,
     "end_time": "2021-08-01T11:37:10.867511",
     "exception": false,
     "start_time": "2021-08-01T11:37:10.788530",
     "status": "completed"
    },
    "tags": []
   },
   "source": [
    "# Real values vs Predicted values"
   ]
  },
  {
   "cell_type": "code",
   "execution_count": 56,
   "id": "f7070030",
   "metadata": {
    "execution": {
     "iopub.execute_input": "2021-08-01T11:37:11.032122Z",
     "iopub.status.busy": "2021-08-01T11:37:11.031554Z",
     "iopub.status.idle": "2021-08-01T11:37:11.035467Z",
     "shell.execute_reply": "2021-08-01T11:37:11.035006Z",
     "shell.execute_reply.started": "2021-08-01T11:21:53.799434Z"
    },
    "papermill": {
     "duration": 0.088586,
     "end_time": "2021-08-01T11:37:11.035584",
     "exception": false,
     "start_time": "2021-08-01T11:37:10.946998",
     "status": "completed"
    },
    "tags": []
   },
   "outputs": [],
   "source": [
    "combined = pd.concat([xtrain,xtest], axis=0)"
   ]
  },
  {
   "cell_type": "code",
   "execution_count": 57,
   "id": "057c8bbd",
   "metadata": {
    "execution": {
     "iopub.execute_input": "2021-08-01T11:37:11.197766Z",
     "iopub.status.busy": "2021-08-01T11:37:11.197110Z",
     "iopub.status.idle": "2021-08-01T11:37:11.199982Z",
     "shell.execute_reply": "2021-08-01T11:37:11.199543Z",
     "shell.execute_reply.started": "2021-08-01T11:22:42.572206Z"
    },
    "papermill": {
     "duration": 0.085498,
     "end_time": "2021-08-01T11:37:11.200097",
     "exception": false,
     "start_time": "2021-08-01T11:37:11.114599",
     "status": "completed"
    },
    "tags": []
   },
   "outputs": [],
   "source": [
    "combined_high = np.concatenate((predicted_train, predicted_test), axis=0)"
   ]
  },
  {
   "cell_type": "code",
   "execution_count": 58,
   "id": "b99548eb",
   "metadata": {
    "execution": {
     "iopub.execute_input": "2021-08-01T11:37:11.364802Z",
     "iopub.status.busy": "2021-08-01T11:37:11.364088Z",
     "iopub.status.idle": "2021-08-01T11:37:11.375198Z",
     "shell.execute_reply": "2021-08-01T11:37:11.374780Z",
     "shell.execute_reply.started": "2021-08-01T11:22:44.841553Z"
    },
    "papermill": {
     "duration": 0.095265,
     "end_time": "2021-08-01T11:37:11.375317",
     "exception": false,
     "start_time": "2021-08-01T11:37:11.280052",
     "status": "completed"
    },
    "tags": []
   },
   "outputs": [
    {
     "data": {
      "text/html": [
       "<div>\n",
       "<style scoped>\n",
       "    .dataframe tbody tr th:only-of-type {\n",
       "        vertical-align: middle;\n",
       "    }\n",
       "\n",
       "    .dataframe tbody tr th {\n",
       "        vertical-align: top;\n",
       "    }\n",
       "\n",
       "    .dataframe thead th {\n",
       "        text-align: right;\n",
       "    }\n",
       "</style>\n",
       "<table border=\"1\" class=\"dataframe\">\n",
       "  <thead>\n",
       "    <tr style=\"text-align: right;\">\n",
       "      <th></th>\n",
       "      <th>Open</th>\n",
       "      <th>Low</th>\n",
       "      <th>Close</th>\n",
       "      <th>Volume</th>\n",
       "      <th>High</th>\n",
       "    </tr>\n",
       "  </thead>\n",
       "  <tbody>\n",
       "    <tr>\n",
       "      <th>0</th>\n",
       "      <td>2.831620</td>\n",
       "      <td>2.521120</td>\n",
       "      <td>2.772120</td>\n",
       "      <td>164329.0</td>\n",
       "      <td>2.041788</td>\n",
       "    </tr>\n",
       "    <tr>\n",
       "      <th>1</th>\n",
       "      <td>2.793760</td>\n",
       "      <td>0.714725</td>\n",
       "      <td>0.753325</td>\n",
       "      <td>674188.0</td>\n",
       "      <td>1.168494</td>\n",
       "    </tr>\n",
       "    <tr>\n",
       "      <th>2</th>\n",
       "      <td>0.706136</td>\n",
       "      <td>0.629191</td>\n",
       "      <td>0.701897</td>\n",
       "      <td>532170.0</td>\n",
       "      <td>-0.176031</td>\n",
       "    </tr>\n",
       "    <tr>\n",
       "      <th>3</th>\n",
       "      <td>0.713989</td>\n",
       "      <td>0.636546</td>\n",
       "      <td>0.708448</td>\n",
       "      <td>405283.0</td>\n",
       "      <td>-0.168824</td>\n",
       "    </tr>\n",
       "    <tr>\n",
       "      <th>4</th>\n",
       "      <td>0.708087</td>\n",
       "      <td>0.663235</td>\n",
       "      <td>1.067860</td>\n",
       "      <td>1463100.0</td>\n",
       "      <td>0.092269</td>\n",
       "    </tr>\n",
       "  </tbody>\n",
       "</table>\n",
       "</div>"
      ],
      "text/plain": [
       "       Open       Low     Close     Volume      High\n",
       "0  2.831620  2.521120  2.772120   164329.0  2.041788\n",
       "1  2.793760  0.714725  0.753325   674188.0  1.168494\n",
       "2  0.706136  0.629191  0.701897   532170.0 -0.176031\n",
       "3  0.713989  0.636546  0.708448   405283.0 -0.168824\n",
       "4  0.708087  0.663235  1.067860  1463100.0  0.092269"
      ]
     },
     "execution_count": 58,
     "metadata": {},
     "output_type": "execute_result"
    }
   ],
   "source": [
    "combined['High'] = combined_high\n",
    "combined.sort_index(inplace=True)\n",
    "combined.head()"
   ]
  },
  {
   "cell_type": "code",
   "execution_count": 59,
   "id": "c5c10152",
   "metadata": {
    "execution": {
     "iopub.execute_input": "2021-08-01T11:37:11.546264Z",
     "iopub.status.busy": "2021-08-01T11:37:11.537993Z",
     "iopub.status.idle": "2021-08-01T11:37:11.551314Z",
     "shell.execute_reply": "2021-08-01T11:37:11.550886Z",
     "shell.execute_reply.started": "2021-08-01T11:23:06.480974Z"
    },
    "papermill": {
     "duration": 0.096247,
     "end_time": "2021-08-01T11:37:11.551423",
     "exception": false,
     "start_time": "2021-08-01T11:37:11.455176",
     "status": "completed"
    },
    "tags": []
   },
   "outputs": [
    {
     "data": {
      "text/html": [
       "<div>\n",
       "<style scoped>\n",
       "    .dataframe tbody tr th:only-of-type {\n",
       "        vertical-align: middle;\n",
       "    }\n",
       "\n",
       "    .dataframe tbody tr th {\n",
       "        vertical-align: top;\n",
       "    }\n",
       "\n",
       "    .dataframe thead th {\n",
       "        text-align: right;\n",
       "    }\n",
       "</style>\n",
       "<table border=\"1\" class=\"dataframe\">\n",
       "  <thead>\n",
       "    <tr style=\"text-align: right;\">\n",
       "      <th></th>\n",
       "      <th>Open</th>\n",
       "      <th>Low</th>\n",
       "      <th>Close</th>\n",
       "      <th>Volume</th>\n",
       "      <th>High</th>\n",
       "      <th>Date</th>\n",
       "    </tr>\n",
       "  </thead>\n",
       "  <tbody>\n",
       "    <tr>\n",
       "      <th>0</th>\n",
       "      <td>2.831620</td>\n",
       "      <td>2.521120</td>\n",
       "      <td>2.772120</td>\n",
       "      <td>164329.0</td>\n",
       "      <td>2.041788</td>\n",
       "      <td>2015-08-07</td>\n",
       "    </tr>\n",
       "    <tr>\n",
       "      <th>1</th>\n",
       "      <td>2.793760</td>\n",
       "      <td>0.714725</td>\n",
       "      <td>0.753325</td>\n",
       "      <td>674188.0</td>\n",
       "      <td>1.168494</td>\n",
       "      <td>2015-08-08</td>\n",
       "    </tr>\n",
       "    <tr>\n",
       "      <th>2</th>\n",
       "      <td>0.706136</td>\n",
       "      <td>0.629191</td>\n",
       "      <td>0.701897</td>\n",
       "      <td>532170.0</td>\n",
       "      <td>-0.176031</td>\n",
       "      <td>2015-08-09</td>\n",
       "    </tr>\n",
       "    <tr>\n",
       "      <th>3</th>\n",
       "      <td>0.713989</td>\n",
       "      <td>0.636546</td>\n",
       "      <td>0.708448</td>\n",
       "      <td>405283.0</td>\n",
       "      <td>-0.168824</td>\n",
       "      <td>2015-08-10</td>\n",
       "    </tr>\n",
       "    <tr>\n",
       "      <th>4</th>\n",
       "      <td>0.708087</td>\n",
       "      <td>0.663235</td>\n",
       "      <td>1.067860</td>\n",
       "      <td>1463100.0</td>\n",
       "      <td>0.092269</td>\n",
       "      <td>2015-08-11</td>\n",
       "    </tr>\n",
       "  </tbody>\n",
       "</table>\n",
       "</div>"
      ],
      "text/plain": [
       "       Open       Low     Close     Volume      High       Date\n",
       "0  2.831620  2.521120  2.772120   164329.0  2.041788 2015-08-07\n",
       "1  2.793760  0.714725  0.753325   674188.0  1.168494 2015-08-08\n",
       "2  0.706136  0.629191  0.701897   532170.0 -0.176031 2015-08-09\n",
       "3  0.713989  0.636546  0.708448   405283.0 -0.168824 2015-08-10\n",
       "4  0.708087  0.663235  1.067860  1463100.0  0.092269 2015-08-11"
      ]
     },
     "execution_count": 59,
     "metadata": {},
     "output_type": "execute_result"
    }
   ],
   "source": [
    "combined['Date'] = eth.Date\n",
    "combined.head()"
   ]
  },
  {
   "cell_type": "code",
   "execution_count": 60,
   "id": "a8b25f56",
   "metadata": {
    "execution": {
     "iopub.execute_input": "2021-08-01T11:37:11.719845Z",
     "iopub.status.busy": "2021-08-01T11:37:11.719165Z",
     "iopub.status.idle": "2021-08-01T11:37:11.723117Z",
     "shell.execute_reply": "2021-08-01T11:37:11.722607Z",
     "shell.execute_reply.started": "2021-08-01T11:21:19.842699Z"
    },
    "papermill": {
     "duration": 0.093359,
     "end_time": "2021-08-01T11:37:11.723231",
     "exception": false,
     "start_time": "2021-08-01T11:37:11.629872",
     "status": "completed"
    },
    "tags": []
   },
   "outputs": [
    {
     "data": {
      "text/html": [
       "<div>\n",
       "<style scoped>\n",
       "    .dataframe tbody tr th:only-of-type {\n",
       "        vertical-align: middle;\n",
       "    }\n",
       "\n",
       "    .dataframe tbody tr th {\n",
       "        vertical-align: top;\n",
       "    }\n",
       "\n",
       "    .dataframe thead th {\n",
       "        text-align: right;\n",
       "    }\n",
       "</style>\n",
       "<table border=\"1\" class=\"dataframe\">\n",
       "  <thead>\n",
       "    <tr style=\"text-align: right;\">\n",
       "      <th></th>\n",
       "      <th>Date</th>\n",
       "      <th>Open</th>\n",
       "      <th>High</th>\n",
       "      <th>Low</th>\n",
       "      <th>Close</th>\n",
       "      <th>Volume</th>\n",
       "    </tr>\n",
       "  </thead>\n",
       "  <tbody>\n",
       "    <tr>\n",
       "      <th>0</th>\n",
       "      <td>2015-08-07</td>\n",
       "      <td>2.831620</td>\n",
       "      <td>3.536610</td>\n",
       "      <td>2.521120</td>\n",
       "      <td>2.772120</td>\n",
       "      <td>164329.0</td>\n",
       "    </tr>\n",
       "    <tr>\n",
       "      <th>1</th>\n",
       "      <td>2015-08-08</td>\n",
       "      <td>2.793760</td>\n",
       "      <td>2.798810</td>\n",
       "      <td>0.714725</td>\n",
       "      <td>0.753325</td>\n",
       "      <td>674188.0</td>\n",
       "    </tr>\n",
       "    <tr>\n",
       "      <th>2</th>\n",
       "      <td>2015-08-09</td>\n",
       "      <td>0.706136</td>\n",
       "      <td>0.879810</td>\n",
       "      <td>0.629191</td>\n",
       "      <td>0.701897</td>\n",
       "      <td>532170.0</td>\n",
       "    </tr>\n",
       "    <tr>\n",
       "      <th>3</th>\n",
       "      <td>2015-08-10</td>\n",
       "      <td>0.713989</td>\n",
       "      <td>0.729854</td>\n",
       "      <td>0.636546</td>\n",
       "      <td>0.708448</td>\n",
       "      <td>405283.0</td>\n",
       "    </tr>\n",
       "    <tr>\n",
       "      <th>4</th>\n",
       "      <td>2015-08-11</td>\n",
       "      <td>0.708087</td>\n",
       "      <td>1.131410</td>\n",
       "      <td>0.663235</td>\n",
       "      <td>1.067860</td>\n",
       "      <td>1463100.0</td>\n",
       "    </tr>\n",
       "  </tbody>\n",
       "</table>\n",
       "</div>"
      ],
      "text/plain": [
       "        Date      Open      High       Low     Close     Volume\n",
       "0 2015-08-07  2.831620  3.536610  2.521120  2.772120   164329.0\n",
       "1 2015-08-08  2.793760  2.798810  0.714725  0.753325   674188.0\n",
       "2 2015-08-09  0.706136  0.879810  0.629191  0.701897   532170.0\n",
       "3 2015-08-10  0.713989  0.729854  0.636546  0.708448   405283.0\n",
       "4 2015-08-11  0.708087  1.131410  0.663235  1.067860  1463100.0"
      ]
     },
     "execution_count": 60,
     "metadata": {},
     "output_type": "execute_result"
    }
   ],
   "source": [
    "eth.head()"
   ]
  },
  {
   "cell_type": "code",
   "execution_count": 61,
   "id": "95147187",
   "metadata": {
    "execution": {
     "iopub.execute_input": "2021-08-01T11:37:11.888762Z",
     "iopub.status.busy": "2021-08-01T11:37:11.888284Z",
     "iopub.status.idle": "2021-08-01T11:37:11.892404Z",
     "shell.execute_reply": "2021-08-01T11:37:11.892763Z",
     "shell.execute_reply.started": "2021-08-01T11:15:25.826128Z"
    },
    "papermill": {
     "duration": 0.088348,
     "end_time": "2021-08-01T11:37:11.892947",
     "exception": false,
     "start_time": "2021-08-01T11:37:11.804599",
     "status": "completed"
    },
    "tags": []
   },
   "outputs": [],
   "source": [
    "sns.set(rc={'figure.figsize':(35,10)})"
   ]
  },
  {
   "cell_type": "markdown",
   "id": "7a3ded71",
   "metadata": {
    "papermill": {
     "duration": 0.078011,
     "end_time": "2021-08-01T11:37:12.048606",
     "exception": false,
     "start_time": "2021-08-01T11:37:11.970595",
     "status": "completed"
    },
    "tags": []
   },
   "source": [
    "## Plotting"
   ]
  },
  {
   "cell_type": "code",
   "execution_count": 62,
   "id": "84008894",
   "metadata": {
    "execution": {
     "iopub.execute_input": "2021-08-01T11:37:12.216017Z",
     "iopub.status.busy": "2021-08-01T11:37:12.215485Z",
     "iopub.status.idle": "2021-08-01T11:37:12.632319Z",
     "shell.execute_reply": "2021-08-01T11:37:12.631842Z",
     "shell.execute_reply.started": "2021-08-01T11:24:48.428726Z"
    },
    "papermill": {
     "duration": 0.49986,
     "end_time": "2021-08-01T11:37:12.632438",
     "exception": false,
     "start_time": "2021-08-01T11:37:12.132578",
     "status": "completed"
    },
    "tags": []
   },
   "outputs": [
    {
     "data": {
      "image/png": "[encoded data removed]",
      "text/plain": [
       "<Figure size 2520x720 with 1 Axes>"
      ]
     },
     "metadata": {},
     "output_type": "display_data"
    }
   ],
   "source": [
    "ax = sns.lineplot(x='Date', y='High', data=eth, color='#043927')\n",
    "sns.lineplot(x='Date', y='High', data=combined, color='red')\n",
    "ax.patch.set_facecolor('white')\n",
    "ax.patch.set_alpha(1.0)\n",
    "ax = plt.xticks([])\n",
    "ax = plt.title('ETH Highest Price', fontsize=24, loc='center', fontweight='heavy', pad=32)"
   ]
  },
  {
   "cell_type": "markdown",
   "id": "7c17b2b7",
   "metadata": {
    "papermill": {
     "duration": 0.082876,
     "end_time": "2021-08-01T11:37:12.797341",
     "exception": false,
     "start_time": "2021-08-01T11:37:12.714465",
     "status": "completed"
    },
    "tags": []
   },
   "source": [
    "# Plotting zoomed in on two spikes"
   ]
  },
  {
   "cell_type": "code",
   "execution_count": 63,
   "id": "633b5e28",
   "metadata": {
    "execution": {
     "iopub.execute_input": "2021-08-01T11:37:12.966676Z",
     "iopub.status.busy": "2021-08-01T11:37:12.966045Z",
     "iopub.status.idle": "2021-08-01T11:37:12.969835Z",
     "shell.execute_reply": "2021-08-01T11:37:12.970247Z",
     "shell.execute_reply.started": "2021-08-01T11:28:45.071516Z"
    },
    "papermill": {
     "duration": 0.090345,
     "end_time": "2021-08-01T11:37:12.970390",
     "exception": false,
     "start_time": "2021-08-01T11:37:12.880045",
     "status": "completed"
    },
    "tags": []
   },
   "outputs": [],
   "source": [
    "eth.set_index('Date', inplace=True)\n",
    "combined.set_index('Date', inplace=True)"
   ]
  },
  {
   "cell_type": "code",
   "execution_count": 64,
   "id": "05117ba4",
   "metadata": {
    "execution": {
     "iopub.execute_input": "2021-08-01T11:37:13.137767Z",
     "iopub.status.busy": "2021-08-01T11:37:13.137285Z",
     "iopub.status.idle": "2021-08-01T11:37:13.425554Z",
     "shell.execute_reply": "2021-08-01T11:37:13.425949Z",
     "shell.execute_reply.started": "2021-08-01T11:29:26.130875Z"
    },
    "papermill": {
     "duration": 0.373405,
     "end_time": "2021-08-01T11:37:13.426101",
     "exception": false,
     "start_time": "2021-08-01T11:37:13.052696",
     "status": "completed"
    },
    "tags": []
   },
   "outputs": [
    {
     "data": {
      "image/png": "[encoded data removed]",
      "text/plain": [
       "<Figure size 2520x720 with 1 Axes>"
      ]
     },
     "metadata": {},
     "output_type": "display_data"
    }
   ],
   "source": [
    "ax = sns.lineplot(x='Date', y='High', data=eth.loc['2017-05-12':'2017-08-12', :], color='#043927')\n",
    "sns.lineplot(x='Date', y='High', data=combined.loc['2017-05-12':'2017-08-12', :], color='red')\n",
    "ax.patch.set_facecolor('white')\n",
    "ax.patch.set_alpha(1.0)\n",
    "ax = plt.xticks([])\n",
    "ax = plt.title('ETH Highest Price [2017-05-15 -> 2017-08-12]', fontsize=24, loc='center', fontweight='heavy', pad=32)"
   ]
  },
  {
   "cell_type": "code",
   "execution_count": 65,
   "id": "267e94df",
   "metadata": {
    "execution": {
     "iopub.execute_input": "2021-08-01T11:37:13.600006Z",
     "iopub.status.busy": "2021-08-01T11:37:13.599517Z",
     "iopub.status.idle": "2021-08-01T11:37:13.909375Z",
     "shell.execute_reply": "2021-08-01T11:37:13.908752Z",
     "shell.execute_reply.started": "2021-08-01T11:29:42.827718Z"
    },
    "papermill": {
     "duration": 0.396413,
     "end_time": "2021-08-01T11:37:13.909512",
     "exception": false,
     "start_time": "2021-08-01T11:37:13.513099",
     "status": "completed"
    },
    "tags": []
   },
   "outputs": [
    {
     "data": {
      "image/png": "[encoded data removed]",
      "text/plain": [
       "<Figure size 2520x720 with 1 Axes>"
      ]
     },
     "metadata": {},
     "output_type": "display_data"
    }
   ],
   "source": [
    "ax = sns.lineplot(x='Date', y='High', data=eth.loc['2020-12-26':'2021-05-26', :], color='#043927')\n",
    "sns.lineplot(x='Date', y='High', data=combined.loc['2020-12-26':'2021-05-26', :], color='red')\n",
    "ax.patch.set_facecolor('white')\n",
    "ax.patch.set_alpha(1.0)\n",
    "ax = plt.xticks([])\n",
    "ax = plt.title('ETH Highest Price [2020-12-26 -> 2021-05-26]', fontsize=24, loc='center', fontweight='heavy', pad=32)"
   ]
  },
  {
   "cell_type": "markdown",
   "id": "24cbb0eb",
   "metadata": {
    "papermill": {
     "duration": 0.119031,
     "end_time": "2021-08-01T11:37:14.149150",
     "exception": false,
     "start_time": "2021-08-01T11:37:14.030119",
     "status": "completed"
    },
    "tags": []
   },
   "source": [
    "# Final toughts"
   ]
  },
  {
   "cell_type": "markdown",
   "id": "9984c517",
   "metadata": {
    "papermill": {
     "duration": 0.118922,
     "end_time": "2021-08-01T11:37:14.388136",
     "exception": false,
     "start_time": "2021-08-01T11:37:14.269214",
     "status": "completed"
    },
    "tags": []
   },
   "source": [
    "Thanks [Arpit Verma](https://www.kaggle.com/varpit94) for this dataset that I could practise.\n",
    "\n",
    "The things I could improve:\n",
    "- Set a clear goals before starting workign with data\n",
    "    - Questions\n",
    "    - Assumptions\n",
    "- Work more on data processing\n",
    "- Hyperparameters tuning\n",
    "- Write more about my process and the results that I got.\n",
    "\n",
    "If anyone have any comments or suggestions please and thank you. I will read every single one."
   ]
  }
 ],
 "metadata": {
  "kernelspec": {
   "display_name": "Python 3",
   "language": "python",
   "name": "python3"
  },
  "language_info": {
   "codemirror_mode": {
    "name": "ipython",
    "version": 3
   },
   "file_extension": ".py",
   "mimetype": "text/x-python",
   "name": "python",
   "nbconvert_exporter": "python",
   "pygments_lexer": "ipython3",
   "version": "3.7.10"
  },
  "papermill": {
   "default_parameters": {},
   "duration": 44.01705,
   "end_time": "2021-08-01T11:37:16.268530",
   "environment_variables": {},
   "exception": null,
   "input_path": "__notebook__.ipynb",
   "output_path": "__notebook__.ipynb",
   "parameters": {},
   "start_time": "2021-08-01T11:36:32.251480",
   "version": "2.3.3"
  }
 },
 "nbformat": 4,
 "nbformat_minor": 5
}
